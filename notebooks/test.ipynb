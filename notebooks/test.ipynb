{
 "cells": [
  {
   "cell_type": "code",
   "execution_count": 1,
   "metadata": {},
   "outputs": [],
   "source": [
    "import os\n",
    "import tensorflow as tf\n",
    "from tensorflow.keras.optimizers import Adam\n",
    "os.chdir('../')\n",
    "from utils.utils import *\n",
    "from models.Transformer.layers import Transformer"
   ]
  },
  {
   "cell_type": "code",
   "execution_count": 2,
   "metadata": {},
   "outputs": [],
   "source": [
    "num_layers = 6\n",
    "d_model = 512\n",
    "dff = 2048\n",
    "num_heads = 8\n",
    "jpn_vocab_size = 8000\n",
    "en_vocab_size = 8000\n",
    "\n",
    "jpn_txt_path = \"dataset/jpn_data.txt\"\n",
    "en_txt_path = \"dataset/en_data.txt\"\n",
    "ckpt_path = \"models/Transformer/ckpt/\"\n",
    "log_path = \"logs/\""
   ]
  },
  {
   "cell_type": "code",
   "execution_count": 3,
   "metadata": {},
   "outputs": [],
   "source": [
    "jpn_data = get_data(jpn_txt_path)\n",
    "en_data = get_data(en_txt_path)\n",
    "JPN_MAX_LEN = get_max_len(jpn_data)\n",
    "EN_MAX_LEN = get_max_len(en_data)\n",
    "# include [BOS] and [EOS] to each max len above\n",
    "JPN_MAX_LEN += 2\n",
    "EN_MAX_LEN += 2\n",
    "\n",
    "transformer = Transformer(num_layers=num_layers,\n",
    "                          d_model=d_model,\n",
    "                          num_heads=num_heads,\n",
    "                          dff=dff,\n",
    "                          input_vocab_size=jpn_vocab_size,\n",
    "                          target_vocab_size=en_vocab_size,\n",
    "                          pe_input=JPN_MAX_LEN,\n",
    "                          pe_target=EN_MAX_LEN)\n",
    "\n",
    "learning_rate = CustomSchedule(d_model)\n",
    "optimizer = Adam(learning_rate,\n",
    "                 beta_1=0.9,\n",
    "                 beta_2=0.98,\n",
    "                 epsilon=1e-9)"
   ]
  },
  {
   "cell_type": "code",
   "execution_count": 20,
   "metadata": {},
   "outputs": [
    {
     "data": {
      "text/plain": [
       "<tensorflow.python.training.tracking.util.CheckpointLoadStatus at 0x2baa600b8ad0>"
      ]
     },
     "execution_count": 20,
     "metadata": {},
     "output_type": "execute_result"
    }
   ],
   "source": [
    "#latest = tf.train.latest_checkpoint(ckpt_path)\n",
    "latest = os.path.join(ckpt_path, \"ckpt-10\")\n",
    "checkpoint = tf.train.Checkpoint(transformer=transformer,\n",
    "                                 optimizer=optimizer)\n",
    "checkpoint.restore(latest)"
   ]
  },
  {
   "cell_type": "code",
   "execution_count": 21,
   "metadata": {},
   "outputs": [
    {
     "data": {
      "text/plain": [
       "<models.Transformer.layers.Transformer at 0x2ba26b8678d0>"
      ]
     },
     "execution_count": 21,
     "metadata": {},
     "output_type": "execute_result"
    }
   ],
   "source": [
    "checkpoint.transformer"
   ]
  },
  {
   "cell_type": "code",
   "execution_count": 38,
   "metadata": {},
   "outputs": [
    {
     "name": "stdout",
     "output_type": "stream",
     "text": [
      "Input: お腹が空いています。\n",
      "Predicted translation: I'm hungry.\n",
      "Input: 今日は楽しい日ですね。\n",
      "Predicted translation: It is a pleasant day today.\n",
      "Input: 外国に行ってみたいです。\n",
      "Predicted translation: I'm looking forward to going abroad.\n"
     ]
    },
    {
     "data": {
      "text/plain": [
       "\"I'm looking forward to going abroad.\""
      ]
     },
     "execution_count": 38,
     "metadata": {},
     "output_type": "execute_result"
    }
   ],
   "source": [
    "translate(\"お腹が空いています。\", EN_MAX_LEN, checkpoint.transformer, result_log=True, plot=\"\")\n",
    "translate(\"今日は楽しい日ですね。\", EN_MAX_LEN, checkpoint.transformer, result_log=True, plot=\"\")\n",
    "translate(\"外国に行ってみたいです。\", EN_MAX_LEN, checkpoint.transformer, result_log=True, plot=\"\")"
   ]
  },
  {
   "cell_type": "code",
   "execution_count": null,
   "metadata": {},
   "outputs": [],
   "source": []
  }
 ],
 "metadata": {
  "kernelspec": {
   "display_name": "Python 3",
   "language": "python",
   "name": "python3"
  },
  "language_info": {
   "codemirror_mode": {
    "name": "ipython",
    "version": 3
   },
   "file_extension": ".py",
   "mimetype": "text/x-python",
   "name": "python",
   "nbconvert_exporter": "python",
   "pygments_lexer": "ipython3",
   "version": "3.7.7"
  }
 },
 "nbformat": 4,
 "nbformat_minor": 4
}
