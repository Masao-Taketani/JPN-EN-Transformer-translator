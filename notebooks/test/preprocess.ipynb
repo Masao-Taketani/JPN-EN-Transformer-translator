{
  "nbformat": 4,
  "nbformat_minor": 0,
  "metadata": {
    "kernelspec": {
      "display_name": "Python 3",
      "language": "python",
      "name": "python3"
    },
    "language_info": {
      "codemirror_mode": {
        "name": "ipython",
        "version": 3
      },
      "file_extension": ".py",
      "mimetype": "text/x-python",
      "name": "python",
      "nbconvert_exporter": "python",
      "pygments_lexer": "ipython3",
      "version": "3.7.7"
    },
    "colab": {
      "name": "preprocess.ipynb",
      "provenance": []
    }
  },
  "cells": [
    {
      "cell_type": "markdown",
      "metadata": {
        "id": "u1QX2edYJhRY"
      },
      "source": [
        "\n",
        "\n",
        "[![Open In Colab](https://colab.research.google.com/assets/colab-badge.svg)](https://colab.research.google.com/github/Masao-Taketani/JPN-EN-Transformer-translator/blob/master/notebooks/test/preprocess.ipynb)\n",
        "\n"
      ]
    },
    {
      "cell_type": "code",
      "metadata": {
        "id": "QQZpVoCTeZiD",
        "outputId": "163d3619-522b-4acc-cf3e-660a619d6b48",
        "colab": {
          "base_uri": "https://localhost:8080/",
          "height": 34
        }
      },
      "source": [
        "from google.colab import drive\n",
        "drive.mount('/content/drive')"
      ],
      "execution_count": 2,
      "outputs": [
        {
          "output_type": "stream",
          "text": [
            "Mounted at /content/drive\n"
          ],
          "name": "stdout"
        }
      ]
    },
    {
      "cell_type": "code",
      "metadata": {
        "id": "-qT82Sow5mDu",
        "outputId": "daf45665-5c55-4b7a-844d-9650c07e55da",
        "colab": {
          "base_uri": "https://localhost:8080/",
          "height": 102
        }
      },
      "source": [
        "!pip install sentencepiece"
      ],
      "execution_count": 3,
      "outputs": [
        {
          "output_type": "stream",
          "text": [
            "Collecting sentencepiece\n",
            "\u001b[?25l  Downloading https://files.pythonhosted.org/packages/d4/a4/d0a884c4300004a78cca907a6ff9a5e9fe4f090f5d95ab341c53d28cbc58/sentencepiece-0.1.91-cp36-cp36m-manylinux1_x86_64.whl (1.1MB)\n",
            "\u001b[K     |████████████████████████████████| 1.1MB 2.7MB/s \n",
            "\u001b[?25hInstalling collected packages: sentencepiece\n",
            "Successfully installed sentencepiece-0.1.91\n"
          ],
          "name": "stdout"
        }
      ]
    },
    {
      "cell_type": "code",
      "metadata": {
        "id": "JLlexa2-njka"
      },
      "source": [
        "import tensorflow_datasets as tfds\n",
        "import tensorflow as tf\n",
        "\n",
        "import time\n",
        "import numpy as np\n",
        "import matplotlib.pyplot as plt\n",
        "import sentencepiece as spm"
      ],
      "execution_count": 4,
      "outputs": []
    },
    {
      "cell_type": "code",
      "metadata": {
        "id": "ehcLPG2feba6"
      },
      "source": [
        "data_path = \"drive/My Drive/datasets/translation/examples.utf\"\n",
        "\n",
        "jpn_data = []\n",
        "en_data = []\n",
        "with open(data_path, \"r\") as f:\n",
        "  for line in f.readlines():\n",
        "    if line[:2] ==\"A:\":\n",
        "      jpn, rest = line[3:].split(\"\\t\")\n",
        "      en, _ = rest.split(\"#ID=\")\n",
        "      jpn_data.append(jpn)\n",
        "      en_data.append(en)"
      ],
      "execution_count": 5,
      "outputs": []
    },
    {
      "cell_type": "code",
      "metadata": {
        "id": "JSLfVq3Veoaq",
        "outputId": "4283ea52-5891-469f-8d9e-00aa43aa3728",
        "colab": {
          "base_uri": "https://localhost:8080/",
          "height": 187
        }
      },
      "source": [
        "jpn_data[:10]"
      ],
      "execution_count": 6,
      "outputs": [
        {
          "output_type": "execute_result",
          "data": {
            "text/plain": [
              "['ムーリエルは２０歳になりました。',\n",
              " 'すぐに戻ります。',\n",
              " 'すぐに諦めて昼寝をするかも知れない。',\n",
              " '愛してる。',\n",
              " 'ログアウトするんじゃなかったよ。',\n",
              " '誰にでも長所と短所がある。',\n",
              " '「どうかしたの？」と小さな白いウサギが聞きました。',\n",
              " '「信用して」と彼は言った。',\n",
              " '「これが探していたものだ」と彼は叫んだ。',\n",
              " '「これはとてもおもしろそうだね」とひろしが言います。']"
            ]
          },
          "metadata": {
            "tags": []
          },
          "execution_count": 6
        }
      ]
    },
    {
      "cell_type": "code",
      "metadata": {
        "id": "KB7NAg2zfcmV",
        "outputId": "dacaa4ae-f1c3-488a-b581-e0f5d04bf343",
        "colab": {
          "base_uri": "https://localhost:8080/",
          "height": 187
        }
      },
      "source": [
        "en_data[:10]"
      ],
      "execution_count": 7,
      "outputs": [
        {
          "output_type": "execute_result",
          "data": {
            "text/plain": [
              "['Muiriel is 20 now.',\n",
              " 'I will be back soon.',\n",
              " 'I may give up soon and just nap instead.',\n",
              " 'I love you.',\n",
              " \"I shouldn't have logged off.\",\n",
              " 'Everyone has both strong and weak points.',\n",
              " '\"What\\'s the matter?\" asked the little white rabbit.',\n",
              " '\"Trust me,\" he said.',\n",
              " '\"This is what I was looking for!\" he exclaimed.',\n",
              " '\"This looks pretty interesting,\" Hiroshi says.']"
            ]
          },
          "metadata": {
            "tags": []
          },
          "execution_count": 7
        }
      ]
    },
    {
      "cell_type": "code",
      "metadata": {
        "id": "AyVfOYZDkvcH"
      },
      "source": [
        "with open(\"jpn_data.txt\", \"w\") as f:\n",
        "  txt = \"\"\n",
        "  for jpn_sent in jpn_data:\n",
        "    txt += jpn_sent + \"\\n\"\n",
        "  f.write(txt)"
      ],
      "execution_count": 8,
      "outputs": []
    },
    {
      "cell_type": "code",
      "metadata": {
        "id": "uTNzhx-ooVYX"
      },
      "source": [
        "with open(\"en_data.txt\", \"w\") as f:\n",
        "  txt = \"\"\n",
        "  for en_sent in en_data:\n",
        "    txt += en_sent + \"\\n\"\n",
        "  f.write(txt)"
      ],
      "execution_count": 9,
      "outputs": []
    },
    {
      "cell_type": "code",
      "metadata": {
        "id": "2qVF6lmq7jK2"
      },
      "source": [
        "spm.SentencePieceTrainer.Train(\"--control_symbols=<pad> --input=jpn_data.txt --model_prefix=jpn_spm --vocab_size=8000\")"
      ],
      "execution_count": 10,
      "outputs": []
    },
    {
      "cell_type": "code",
      "metadata": {
        "id": "5cy95anL77xs"
      },
      "source": [
        "spm.SentencePieceTrainer.Train(\"--control_symbols=<pad> --input=en_data.txt --model_prefix=en_spm --vocab_size=8000\")"
      ],
      "execution_count": 11,
      "outputs": []
    },
    {
      "cell_type": "code",
      "metadata": {
        "id": "VRBWDtQ598_I",
        "outputId": "4f7e5e9b-9ed5-4f05-b7b3-9e222d07a4a2",
        "colab": {
          "base_uri": "https://localhost:8080/",
          "height": 221
        }
      },
      "source": [
        "!ls -lha"
      ],
      "execution_count": 12,
      "outputs": [
        {
          "output_type": "stream",
          "text": [
            "total 15M\n",
            "drwxr-xr-x 1 root root 4.0K Oct 12 12:58 .\n",
            "drwxr-xr-x 1 root root 4.0K Oct 12 11:45 ..\n",
            "drwxr-xr-x 1 root root 4.0K Oct  5 16:31 .config\n",
            "drwx------ 5 root root 4.0K Oct 12 12:36 drive\n",
            "-rw-r--r-- 1 root root 6.0M Oct 12 12:57 en_data.txt\n",
            "-rw-r--r-- 1 root root 371K Oct 12 12:58 en_spm.model\n",
            "-rw-r--r-- 1 root root 146K Oct 12 12:58 en_spm.vocab\n",
            "-rw-r--r-- 1 root root 8.1M Oct 12 12:57 jpn_data.txt\n",
            "-rw-r--r-- 1 root root 367K Oct 12 12:58 jpn_spm.model\n",
            "-rw-r--r-- 1 root root 142K Oct 12 12:58 jpn_spm.vocab\n",
            "drwxr-xr-x 1 root root 4.0K Oct  5 16:31 sample_data\n"
          ],
          "name": "stdout"
        }
      ]
    },
    {
      "cell_type": "code",
      "metadata": {
        "id": "K7Jv2Y4dBaBH",
        "outputId": "5d713bce-74dc-47bf-8f8f-60dc57ad86a5",
        "colab": {
          "base_uri": "https://localhost:8080/",
          "height": 51
        }
      },
      "source": [
        "sp_jpn = spm.SentencePieceProcessor()\n",
        "sp_jpn.Load(\"jpn_spm.model\")\n",
        "print(sp_jpn.EncodeAsPieces(\"こんにちは。今日は比較的涼しい日ですね。\"))\n",
        "print(sp_jpn.EncodeAsIds(\"こんにちは。今日は比較的涼しい日ですね。\"))"
      ],
      "execution_count": 21,
      "outputs": [
        {
          "output_type": "stream",
          "text": [
            "['▁', 'こ', 'ん', 'に', 'ち', 'は', '。', '今日は', '比', '較', '的', '涼', 'しい', '日', 'ですね', '。']\n",
            "[5, 101, 126, 10, 211, 6, 4, 2182, 3176, 7892, 314, 5439, 275, 93, 553, 4]\n"
          ],
          "name": "stdout"
        }
      ]
    },
    {
      "cell_type": "code",
      "metadata": {
        "id": "E1XJUuY-CSXU",
        "outputId": "b9708a18-356c-4ade-85c3-00ea745d6fef",
        "colab": {
          "base_uri": "https://localhost:8080/",
          "height": 51
        }
      },
      "source": [
        "sp_en = spm.SentencePieceProcessor()\n",
        "sp_en.Load(\"en_spm.model\")\n",
        "print(sp_en.EncodeAsPieces(\"Hello. Today is a relatively cool day, isn't it?\"))\n",
        "print(sp_en.EncodeAsIds(\"Hello. Today is a relatively cool day, isn't it?\"))"
      ],
      "execution_count": 24,
      "outputs": [
        {
          "output_type": "stream",
          "text": [
            "['▁Hello', '.', '▁Today', '▁is', '▁a', '▁relative', 'ly', '▁cool', '▁day', ',', '▁is', 'n', \"'\", 't', '▁it', '?']\n",
            "[4241, 4, 1344, 9, 8, 2767, 108, 1625, 103, 13, 9, 42, 10, 19, 29, 20]\n"
          ],
          "name": "stdout"
        }
      ]
    },
    {
      "cell_type": "code",
      "metadata": {
        "id": "PVg1fqy-zwfr"
      },
      "source": [
        "!cp en_spm* jpn_spm* *.txt drive/My\\ Drive/deep_learning_models/JPN-EN-Transformer-translator/"
      ],
      "execution_count": 20,
      "outputs": []
    },
    {
      "cell_type": "code",
      "metadata": {
        "id": "koAXUerb7wf2"
      },
      "source": [
        ""
      ],
      "execution_count": null,
      "outputs": []
    }
  ]
}