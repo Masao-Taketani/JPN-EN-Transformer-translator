{
  "nbformat": 4,
  "nbformat_minor": 0,
  "metadata": {
    "kernelspec": {
      "display_name": "Python 3",
      "language": "python",
      "name": "python3"
    },
    "language_info": {
      "codemirror_mode": {
        "name": "ipython",
        "version": 3
      },
      "file_extension": ".py",
      "mimetype": "text/x-python",
      "name": "python",
      "nbconvert_exporter": "python",
      "pygments_lexer": "ipython3",
      "version": "3.7.7"
    },
    "colab": {
      "name": "train.ipynb",
      "provenance": []
    }
  },
  "cells": [
    {
      "cell_type": "markdown",
      "metadata": {
        "id": "Axc_ZAFUykIY"
      },
      "source": [
        "[![Open In Colab](https://colab.research.google.com/assets/colab-badge.svg)](https://colab.research.google.com/github/Masao-Taketani/JPN-EN-Transformer-translator/blob/master/notebooks/test/train.ipynb)"
      ]
    },
    {
      "cell_type": "code",
      "metadata": {
        "id": "N4v1DluS6axM",
        "outputId": "ad671317-5f1a-4de4-daea-1a58a615c38b",
        "colab": {
          "base_uri": "https://localhost:8080/",
          "height": 102
        }
      },
      "source": [
        "!pip install sentencepiece"
      ],
      "execution_count": 1,
      "outputs": [
        {
          "output_type": "stream",
          "text": [
            "Collecting sentencepiece\n",
            "\u001b[?25l  Downloading https://files.pythonhosted.org/packages/e5/2d/6d4ca4bef9a67070fa1cac508606328329152b1df10bdf31fb6e4e727894/sentencepiece-0.1.94-cp36-cp36m-manylinux2014_x86_64.whl (1.1MB)\n",
            "\r\u001b[K     |▎                               | 10kB 26.6MB/s eta 0:00:01\r\u001b[K     |▋                               | 20kB 5.0MB/s eta 0:00:01\r\u001b[K     |▉                               | 30kB 5.1MB/s eta 0:00:01\r\u001b[K     |█▏                              | 40kB 5.8MB/s eta 0:00:01\r\u001b[K     |█▌                              | 51kB 6.0MB/s eta 0:00:01\r\u001b[K     |█▊                              | 61kB 6.2MB/s eta 0:00:01\r\u001b[K     |██                              | 71kB 6.9MB/s eta 0:00:01\r\u001b[K     |██▍                             | 81kB 7.7MB/s eta 0:00:01\r\u001b[K     |██▋                             | 92kB 7.5MB/s eta 0:00:01\r\u001b[K     |███                             | 102kB 7.9MB/s eta 0:00:01\r\u001b[K     |███▎                            | 112kB 7.9MB/s eta 0:00:01\r\u001b[K     |███▌                            | 122kB 7.9MB/s eta 0:00:01\r\u001b[K     |███▉                            | 133kB 7.9MB/s eta 0:00:01\r\u001b[K     |████▏                           | 143kB 7.9MB/s eta 0:00:01\r\u001b[K     |████▍                           | 153kB 7.9MB/s eta 0:00:01\r\u001b[K     |████▊                           | 163kB 7.9MB/s eta 0:00:01\r\u001b[K     |█████                           | 174kB 7.9MB/s eta 0:00:01\r\u001b[K     |█████▎                          | 184kB 7.9MB/s eta 0:00:01\r\u001b[K     |█████▋                          | 194kB 7.9MB/s eta 0:00:01\r\u001b[K     |█████▉                          | 204kB 7.9MB/s eta 0:00:01\r\u001b[K     |██████▏                         | 215kB 7.9MB/s eta 0:00:01\r\u001b[K     |██████▌                         | 225kB 7.9MB/s eta 0:00:01\r\u001b[K     |██████▊                         | 235kB 7.9MB/s eta 0:00:01\r\u001b[K     |███████                         | 245kB 7.9MB/s eta 0:00:01\r\u001b[K     |███████▍                        | 256kB 7.9MB/s eta 0:00:01\r\u001b[K     |███████▋                        | 266kB 7.9MB/s eta 0:00:01\r\u001b[K     |████████                        | 276kB 7.9MB/s eta 0:00:01\r\u001b[K     |████████▎                       | 286kB 7.9MB/s eta 0:00:01\r\u001b[K     |████████▌                       | 296kB 7.9MB/s eta 0:00:01\r\u001b[K     |████████▉                       | 307kB 7.9MB/s eta 0:00:01\r\u001b[K     |█████████                       | 317kB 7.9MB/s eta 0:00:01\r\u001b[K     |█████████▍                      | 327kB 7.9MB/s eta 0:00:01\r\u001b[K     |█████████▊                      | 337kB 7.9MB/s eta 0:00:01\r\u001b[K     |██████████                      | 348kB 7.9MB/s eta 0:00:01\r\u001b[K     |██████████▎                     | 358kB 7.9MB/s eta 0:00:01\r\u001b[K     |██████████▋                     | 368kB 7.9MB/s eta 0:00:01\r\u001b[K     |██████████▉                     | 378kB 7.9MB/s eta 0:00:01\r\u001b[K     |███████████▏                    | 389kB 7.9MB/s eta 0:00:01\r\u001b[K     |███████████▌                    | 399kB 7.9MB/s eta 0:00:01\r\u001b[K     |███████████▊                    | 409kB 7.9MB/s eta 0:00:01\r\u001b[K     |████████████                    | 419kB 7.9MB/s eta 0:00:01\r\u001b[K     |████████████▍                   | 430kB 7.9MB/s eta 0:00:01\r\u001b[K     |████████████▋                   | 440kB 7.9MB/s eta 0:00:01\r\u001b[K     |█████████████                   | 450kB 7.9MB/s eta 0:00:01\r\u001b[K     |█████████████▎                  | 460kB 7.9MB/s eta 0:00:01\r\u001b[K     |█████████████▌                  | 471kB 7.9MB/s eta 0:00:01\r\u001b[K     |█████████████▉                  | 481kB 7.9MB/s eta 0:00:01\r\u001b[K     |██████████████                  | 491kB 7.9MB/s eta 0:00:01\r\u001b[K     |██████████████▍                 | 501kB 7.9MB/s eta 0:00:01\r\u001b[K     |██████████████▊                 | 512kB 7.9MB/s eta 0:00:01\r\u001b[K     |███████████████                 | 522kB 7.9MB/s eta 0:00:01\r\u001b[K     |███████████████▎                | 532kB 7.9MB/s eta 0:00:01\r\u001b[K     |███████████████▋                | 542kB 7.9MB/s eta 0:00:01\r\u001b[K     |███████████████▉                | 552kB 7.9MB/s eta 0:00:01\r\u001b[K     |████████████████▏               | 563kB 7.9MB/s eta 0:00:01\r\u001b[K     |████████████████▌               | 573kB 7.9MB/s eta 0:00:01\r\u001b[K     |████████████████▊               | 583kB 7.9MB/s eta 0:00:01\r\u001b[K     |█████████████████               | 593kB 7.9MB/s eta 0:00:01\r\u001b[K     |█████████████████▍              | 604kB 7.9MB/s eta 0:00:01\r\u001b[K     |█████████████████▋              | 614kB 7.9MB/s eta 0:00:01\r\u001b[K     |██████████████████              | 624kB 7.9MB/s eta 0:00:01\r\u001b[K     |██████████████████▏             | 634kB 7.9MB/s eta 0:00:01\r\u001b[K     |██████████████████▌             | 645kB 7.9MB/s eta 0:00:01\r\u001b[K     |██████████████████▉             | 655kB 7.9MB/s eta 0:00:01\r\u001b[K     |███████████████████             | 665kB 7.9MB/s eta 0:00:01\r\u001b[K     |███████████████████▍            | 675kB 7.9MB/s eta 0:00:01\r\u001b[K     |███████████████████▊            | 686kB 7.9MB/s eta 0:00:01\r\u001b[K     |████████████████████            | 696kB 7.9MB/s eta 0:00:01\r\u001b[K     |████████████████████▎           | 706kB 7.9MB/s eta 0:00:01\r\u001b[K     |████████████████████▋           | 716kB 7.9MB/s eta 0:00:01\r\u001b[K     |████████████████████▉           | 727kB 7.9MB/s eta 0:00:01\r\u001b[K     |█████████████████████▏          | 737kB 7.9MB/s eta 0:00:01\r\u001b[K     |█████████████████████▌          | 747kB 7.9MB/s eta 0:00:01\r\u001b[K     |█████████████████████▊          | 757kB 7.9MB/s eta 0:00:01\r\u001b[K     |██████████████████████          | 768kB 7.9MB/s eta 0:00:01\r\u001b[K     |██████████████████████▎         | 778kB 7.9MB/s eta 0:00:01\r\u001b[K     |██████████████████████▋         | 788kB 7.9MB/s eta 0:00:01\r\u001b[K     |███████████████████████         | 798kB 7.9MB/s eta 0:00:01\r\u001b[K     |███████████████████████▏        | 808kB 7.9MB/s eta 0:00:01\r\u001b[K     |███████████████████████▌        | 819kB 7.9MB/s eta 0:00:01\r\u001b[K     |███████████████████████▉        | 829kB 7.9MB/s eta 0:00:01\r\u001b[K     |████████████████████████        | 839kB 7.9MB/s eta 0:00:01\r\u001b[K     |████████████████████████▍       | 849kB 7.9MB/s eta 0:00:01\r\u001b[K     |████████████████████████▊       | 860kB 7.9MB/s eta 0:00:01\r\u001b[K     |█████████████████████████       | 870kB 7.9MB/s eta 0:00:01\r\u001b[K     |█████████████████████████▎      | 880kB 7.9MB/s eta 0:00:01\r\u001b[K     |█████████████████████████▋      | 890kB 7.9MB/s eta 0:00:01\r\u001b[K     |█████████████████████████▉      | 901kB 7.9MB/s eta 0:00:01\r\u001b[K     |██████████████████████████▏     | 911kB 7.9MB/s eta 0:00:01\r\u001b[K     |██████████████████████████▌     | 921kB 7.9MB/s eta 0:00:01\r\u001b[K     |██████████████████████████▊     | 931kB 7.9MB/s eta 0:00:01\r\u001b[K     |███████████████████████████     | 942kB 7.9MB/s eta 0:00:01\r\u001b[K     |███████████████████████████▎    | 952kB 7.9MB/s eta 0:00:01\r\u001b[K     |███████████████████████████▋    | 962kB 7.9MB/s eta 0:00:01\r\u001b[K     |████████████████████████████    | 972kB 7.9MB/s eta 0:00:01\r\u001b[K     |████████████████████████████▏   | 983kB 7.9MB/s eta 0:00:01\r\u001b[K     |████████████████████████████▌   | 993kB 7.9MB/s eta 0:00:01\r\u001b[K     |████████████████████████████▉   | 1.0MB 7.9MB/s eta 0:00:01\r\u001b[K     |█████████████████████████████   | 1.0MB 7.9MB/s eta 0:00:01\r\u001b[K     |█████████████████████████████▍  | 1.0MB 7.9MB/s eta 0:00:01\r\u001b[K     |█████████████████████████████▊  | 1.0MB 7.9MB/s eta 0:00:01\r\u001b[K     |██████████████████████████████  | 1.0MB 7.9MB/s eta 0:00:01\r\u001b[K     |██████████████████████████████▎ | 1.1MB 7.9MB/s eta 0:00:01\r\u001b[K     |██████████████████████████████▋ | 1.1MB 7.9MB/s eta 0:00:01\r\u001b[K     |██████████████████████████████▉ | 1.1MB 7.9MB/s eta 0:00:01\r\u001b[K     |███████████████████████████████▏| 1.1MB 7.9MB/s eta 0:00:01\r\u001b[K     |███████████████████████████████▍| 1.1MB 7.9MB/s eta 0:00:01\r\u001b[K     |███████████████████████████████▊| 1.1MB 7.9MB/s eta 0:00:01\r\u001b[K     |████████████████████████████████| 1.1MB 7.9MB/s \n",
            "\u001b[?25hInstalling collected packages: sentencepiece\n",
            "Successfully installed sentencepiece-0.1.94\n"
          ],
          "name": "stdout"
        }
      ]
    },
    {
      "cell_type": "code",
      "metadata": {
        "id": "n6zx8Eaa7-FV",
        "outputId": "7b3a7fb5-a04e-42b8-f800-61a245a71f02",
        "colab": {
          "base_uri": "https://localhost:8080/",
          "height": 34
        }
      },
      "source": [
        "from google.colab import drive\n",
        "drive.mount('/content/drive')"
      ],
      "execution_count": 2,
      "outputs": [
        {
          "output_type": "stream",
          "text": [
            "Mounted at /content/drive\n"
          ],
          "name": "stdout"
        }
      ]
    },
    {
      "cell_type": "code",
      "metadata": {
        "id": "pmeCRYnj6EDe"
      },
      "source": [
        "import sentencepiece as spm\n",
        "import tensorflow as tf\n",
        "from tensorflow.data.experimental import AUTOTUNE\n",
        "from sklearn.model_selection import train_test_split\n",
        "import numpy as np\n",
        "import matplotlib.pyplot as plt\n",
        "import time"
      ],
      "execution_count": 51,
      "outputs": []
    },
    {
      "cell_type": "code",
      "metadata": {
        "id": "eoZWq4ucyf1J",
        "outputId": "55460ef8-f254-47c5-c771-9d2efb3bf0a2",
        "colab": {
          "base_uri": "https://localhost:8080/",
          "height": 34
        }
      },
      "source": [
        "BUFFER_SIZE = 20000\n",
        "BATCH_SIZE = 64\n",
        "jpn_sp_model = \"drive/My Drive/deep_learning_models/JPN-EN-Transformer-translator/jpn_spm.model\"\n",
        "en_sp_model = \"drive/My Drive/deep_learning_models/JPN-EN-Transformer-translator/en_spm.model\"\n",
        "jpn_sp = spm.SentencePieceProcessor()\n",
        "en_sp = spm.SentencePieceProcessor()\n",
        "jpn_sp.Load(jpn_sp_model)\n",
        "en_sp.Load(en_sp_model)"
      ],
      "execution_count": 4,
      "outputs": [
        {
          "output_type": "execute_result",
          "data": {
            "text/plain": [
              "True"
            ]
          },
          "metadata": {
            "tags": []
          },
          "execution_count": 4
        }
      ]
    },
    {
      "cell_type": "code",
      "metadata": {
        "id": "GcHSUcptE3xv"
      },
      "source": [
        "def read_data(fpath):\n",
        "  with open(fpath, \"r\") as f:\n",
        "    return f.read()\n",
        "\n",
        "def get_data(fpath):\n",
        "  data = read_data(fpath)\n",
        "  data_list = []\n",
        "  for line in data.split(\"\\n\"):\n",
        "    data_list.append(line)\n",
        "  return data_list\n",
        "\n",
        "def get_max_len_and_list(fpath):\n",
        "  data = read_data(fpath)\n",
        "  max_len = 0\n",
        "  li = []\n",
        "  for line in data.split(\"\\n\"):\n",
        "    li.append(line)\n",
        "    if max_len < len(line):\n",
        "      max_len = len(line)\n",
        "  return max_len, li"
      ],
      "execution_count": 5,
      "outputs": []
    },
    {
      "cell_type": "code",
      "metadata": {
        "id": "V9sc8oKBFGFf",
        "outputId": "ff060f78-eb67-4ac7-eb4f-962f4f402223",
        "colab": {
          "base_uri": "https://localhost:8080/",
          "height": 34
        }
      },
      "source": [
        "jpn_path = \"drive/My Drive/deep_learning_models/JPN-EN-Transformer-translator/jpn_data.txt\"\n",
        "en_path = \"drive/My Drive/deep_learning_models/JPN-EN-Transformer-translator/en_data.txt\"\n",
        "jpn_data = get_data(jpn_path)\n",
        "en_data = get_data(en_path)\n",
        "train_jpn, val_jpn, train_en, val_en = train_test_split(jpn_data, en_data, test_size=0.05)\n",
        "\n",
        "print(\"train size:\", len(train_jpn), \"validation size:\", len(val_jpn))"
      ],
      "execution_count": 6,
      "outputs": [
        {
          "output_type": "stream",
          "text": [
            "train size: 142298 validation size: 7490\n"
          ],
          "name": "stdout"
        }
      ]
    },
    {
      "cell_type": "code",
      "metadata": {
        "id": "LlNX0FOuyywQ"
      },
      "source": [
        "# When you have tf.Tensor(string) and .numpy() method is used inside of the tf.py_function, \n",
        "# it is converted to just a string. Not a numpy.\n",
        "def encode(jpn, en):\n",
        "  jpn_enc = [jpn_sp.PieceToId(\"<s>\")] + jpn_sp.EncodeAsIds(jpn.numpy()) + [jpn_sp.PieceToId(\"</s>\")]\n",
        "  en_enc = [en_sp.PieceToId(\"<s>\")] + en_sp.EncodeAsIds(en.numpy()) + [en_sp.PieceToId(\"</s>\")]\n",
        "  return jpn_enc, en_enc\n",
        "\n",
        "def tf_encode(jpn, en):\n",
        "  result_jpn, result_en = tf.py_function(encode, [jpn, en], [tf.int64, tf.int64])\n",
        "  result_jpn.set_shape([None])\n",
        "  result_en.set_shape([None])\n",
        "  return result_jpn, result_en"
      ],
      "execution_count": 7,
      "outputs": []
    },
    {
      "cell_type": "code",
      "metadata": {
        "id": "YvoBNnYUO4G9"
      },
      "source": [
        "train_dataset = tf.data.Dataset.from_tensor_slices((train_jpn, train_en))\n",
        "train_dataset = train_dataset.map(tf_encode)\n",
        "train_dataset = train_dataset.cache()\n",
        "train_dataset = train_dataset.shuffle(BUFFER_SIZE).padded_batch(BATCH_SIZE)\n",
        "train_dataset = train_dataset.prefetch(AUTOTUNE)\n",
        "\n",
        "val_dataset = tf.data.Dataset.from_tensor_slices((val_jpn, val_en))\n",
        "val_dataset = val_dataset.map(tf_encode)\n",
        "val_dataset = val_dataset.padded_batch(BATCH_SIZE)"
      ],
      "execution_count": 8,
      "outputs": []
    },
    {
      "cell_type": "code",
      "metadata": {
        "id": "3hYVybxte6XV"
      },
      "source": [
        "# Positinal Encoding\n",
        "def get_angles(pos, i, d_model):\n",
        "  angle_rates = 1 / np.power(10000, (2 * (i//2)) / np.float32(d_model))\n",
        "  return pos * angle_rates\n",
        "\n",
        "def positional_encoding(position, d_model):\n",
        "  angle_rads = get_angles(np.arange(position)[:, np.newaxis],\n",
        "                          np.arange(d_model)[np.newaxis, :],\n",
        "                          d_model)\n",
        "  \n",
        "  # apply sin to even indices in the array: 2i\n",
        "  angle_rads[:, 0::2] = np.sin(angle_rads[:, 0::2])\n",
        "\n",
        "  # apply cos to odd indices in the array: 2i+1\n",
        "  angle_rads[:, 1::2] = np.cos(angle_rads[:, 1::2])\n",
        "  # add the new dim to the first dimension\n",
        "  pos_encoding = angle_rads[np.newaxis, ...]\n",
        "\n",
        "  return tf.cast(pos_encoding, dtype=tf.float32)"
      ],
      "execution_count": 9,
      "outputs": []
    },
    {
      "cell_type": "code",
      "metadata": {
        "id": "o6qUqDtyyU6F",
        "outputId": "5514d053-6f19-4443-f75b-45d880de2623",
        "colab": {
          "base_uri": "https://localhost:8080/",
          "height": 34
        }
      },
      "source": [
        "pos_encoding = positional_encoding(position=50, d_model=512)\n",
        "print(pos_encoding.shape)"
      ],
      "execution_count": 10,
      "outputs": [
        {
          "output_type": "stream",
          "text": [
            "(1, 50, 512)\n"
          ],
          "name": "stdout"
        }
      ]
    },
    {
      "cell_type": "code",
      "metadata": {
        "id": "wOClKh8o1SWA",
        "outputId": "468b8c8e-f44b-4026-e2db-1641c58af391",
        "colab": {
          "base_uri": "https://localhost:8080/",
          "height": 283
        }
      },
      "source": [
        "plt.pcolormesh(pos_encoding[0], cmap=\"RdBu\")\n",
        "plt.xlabel(\"Depth\")\n",
        "plt.xlim((0, 512))\n",
        "plt.ylabel(\"Position\")\n",
        "plt.colorbar()\n",
        "plt.show()"
      ],
      "execution_count": 11,
      "outputs": [
        {
          "output_type": "display_data",
          "data": {
            "image/png": "[encoded data removed]",
            "text/plain": [
              "<Figure size 432x288 with 2 Axes>"
            ]
          },
          "metadata": {
            "tags": [],
            "needs_background": "light"
          }
        }
      ]
    },
    {
      "cell_type": "code",
      "metadata": {
        "id": "1qkoAG591_1k"
      },
      "source": [
        "# Masking\n",
        "# The mask indicates where pad value 0 is present, it outputs a 1 at thoese\n",
        "# locations. Otherwise 0.\n",
        "def create_padding_mask(seq):\n",
        "  # tf.math.equal(x, y): Returns the truth value of (x == y) element-wise.\n",
        "  seq = tf.cast(tf.math.equal(seq, 0), tf.float32)\n",
        "\n",
        "  # add extra dimensions to add the padding to the attention logits\n",
        "  # returned shape: (batch_size, 1, 1, seq_len)\n",
        "  return seq[:, tf.newaxis, tf.newaxis, :]"
      ],
      "execution_count": 12,
      "outputs": []
    },
    {
      "cell_type": "code",
      "metadata": {
        "id": "K269HHP94SDN",
        "outputId": "9d31c7cc-79ca-4568-bca6-94e2d69eb1e5",
        "colab": {
          "base_uri": "https://localhost:8080/",
          "height": 170
        }
      },
      "source": [
        "x = tf.constant([[7, 6, 0, 0, 0], [1, 2, 3, 0, 0], [4, 5, 9, 10, 0]])\n",
        "print(\"shape of x:\", x.shape)\n",
        "create_padding_mask(x)"
      ],
      "execution_count": 13,
      "outputs": [
        {
          "output_type": "stream",
          "text": [
            "shape of x: (3, 5)\n"
          ],
          "name": "stdout"
        },
        {
          "output_type": "execute_result",
          "data": {
            "text/plain": [
              "<tf.Tensor: shape=(3, 1, 1, 5), dtype=float32, numpy=\n",
              "array([[[[0., 0., 1., 1., 1.]]],\n",
              "\n",
              "\n",
              "       [[[0., 0., 0., 1., 1.]]],\n",
              "\n",
              "\n",
              "       [[[0., 0., 0., 0., 1.]]]], dtype=float32)>"
            ]
          },
          "metadata": {
            "tags": []
          },
          "execution_count": 13
        }
      ]
    },
    {
      "cell_type": "code",
      "metadata": {
        "id": "vB6nXlps5sDX"
      },
      "source": [
        "def create_look_ahead_mask(seq_len):\n",
        "  \"\"\"\n",
        "  tf.linalg.band_part(input, num_lower, num_upper) \n",
        "  ([used to be]tf.matrix_band_part)\n",
        "  (e.g) tf.linalg.band_part(tf.ones((3, 3)), -1, 0)\n",
        "  <tf.Tensor: shape=(3, 3), dtype=float32, numpy=\n",
        "  array([[1., 0., 0.],\n",
        "         [1., 1., 0.],\n",
        "         [1., 1., 1.]], dtype=float32)>\n",
        "  [reference]https://dev.classmethod.jp/articles/tensorflow-matrixbandpart/\n",
        "  \"\"\"\n",
        "  mask = 1 - tf.linalg.band_part(tf.ones((seq_len, seq_len)), -1, 0)\n",
        "  # returned shape: (seq_len, seq_len)\n",
        "  return mask"
      ],
      "execution_count": 14,
      "outputs": []
    },
    {
      "cell_type": "code",
      "metadata": {
        "id": "Lmkdc3LnbS8Q",
        "outputId": "9b6c05b8-707b-41ba-a641-8c1408a38c9b",
        "colab": {
          "base_uri": "https://localhost:8080/",
          "height": 85
        }
      },
      "source": [
        "tf.linalg.band_part(tf.ones((3, 3)), -1, 0)"
      ],
      "execution_count": 15,
      "outputs": [
        {
          "output_type": "execute_result",
          "data": {
            "text/plain": [
              "<tf.Tensor: shape=(3, 3), dtype=float32, numpy=\n",
              "array([[1., 0., 0.],\n",
              "       [1., 1., 0.],\n",
              "       [1., 1., 1.]], dtype=float32)>"
            ]
          },
          "metadata": {
            "tags": []
          },
          "execution_count": 15
        }
      ]
    },
    {
      "cell_type": "code",
      "metadata": {
        "id": "mgDVySFTehPK"
      },
      "source": [
        "# Scaled Dot-Product Attention\n",
        "def scaled_dot_product_attention(q, k, v, mask):\n",
        "  \"\"\"Calculate the attention weights.\n",
        "  q, k, v must have matching leading dimensions.\n",
        "  k, v must have matching penultimate dimension, i.e.: seq_len_k = seq_len_v\n",
        "  The mask has different shapes depending on its type(padding or look ahead)\n",
        "  but it must be boradcastable for addition.\n",
        "  Padding is used for self-attention and encoder-decoder attention.\n",
        "  Look ahead is used for encoder-decoder attention.\n",
        "\n",
        "  Args:\n",
        "    q: query shape == (..., seq_len_q, depth)\n",
        "    k: key shape == (..., seq_len_k, depth)\n",
        "    v: value shape == (..., seq_len_v, depth_v)\n",
        "    mask: Float tensor with shape broadcastable\n",
        "      to (..., seq_len_q, seq_len_k). Defaults to None.\n",
        "\n",
        "  Returns:\n",
        "    output, attention_weights\n",
        "  \"\"\"\n",
        "\n",
        "  # shape: (..., seq_len_q, seq_len_k)\n",
        "  matmul_qk = tf.matmul(q, k, transpose_b=True)\n",
        "\n",
        "  # scale matmul_qk\n",
        "  dk = tf.cast(tf.shape(k)[-1], tf.float32)\n",
        "  scaled_attention_logits = matmul_qk / tf.math.sqrt(dk)\n",
        "\n",
        "  # add the mask to the scaled tensor.\n",
        "  if not mask:\n",
        "    scaled_attention_logits += (mask * -1e9)\n",
        "\n",
        "  # softmax is normalized on the last axis (seq_len_k) so that the scores\n",
        "  # add up to 1.\n",
        "  # As the softmax normalization is done on k, its values decide the amount of \n",
        "  # importance given to Q.\n",
        "  # shape: (..., seq_len_q, seq_len_k)\n",
        "  attention_weights = tf.nn.softmax(scaled_attention_logits, axis=-1)\n",
        "  # shape: (..., seq_len_q, depth_v)\n",
        "  output = tf.matmul(attention_weights, v)\n",
        "\n",
        "  return output, attention_weights"
      ],
      "execution_count": 16,
      "outputs": []
    },
    {
      "cell_type": "code",
      "metadata": {
        "id": "0fz5EHVjnWM2"
      },
      "source": [
        "def print_out(q, k, v):\n",
        "  temp_out, temp_attn = scaled_dot_product_attention(q, k, v, 0)\n",
        "  print(\"Attention weights are:\")\n",
        "  print(temp_attn)\n",
        "  print(\"Output is:\")\n",
        "  print(temp_out)"
      ],
      "execution_count": 17,
      "outputs": []
    },
    {
      "cell_type": "code",
      "metadata": {
        "id": "gWp5tKKntb-0"
      },
      "source": [
        "np.set_printoptions(suppress=True)\n",
        "\n",
        "# shape: (4, 3)\n",
        "temp_k = tf.constant([[10, 0, 0],\n",
        "                      [0, 10, 0],\n",
        "                      [0, 0, 10],\n",
        "                      [0, 0, 10]], dtype=tf.float32)\n",
        "# shape: (4, 2) \n",
        "temp_v = tf.constant([[1, 0],\n",
        "                      [10, 0],\n",
        "                      [100, 5],\n",
        "                      [1000, 6]], dtype=tf.float32)"
      ],
      "execution_count": 18,
      "outputs": []
    },
    {
      "cell_type": "code",
      "metadata": {
        "id": "M7vHosjcv9l2",
        "outputId": "af445efc-711c-40fd-97a7-a07d046f6616",
        "colab": {
          "base_uri": "https://localhost:8080/",
          "height": 85
        }
      },
      "source": [
        "# This `query` aligns with the second `key`,\n",
        "# so the second 'value' is returned.\n",
        "# shape: (1, 3)\n",
        "temp_q = tf.constant([[0, 10, 0]], dtype=tf.float32)\n",
        "print_out(temp_q, temp_k, temp_v)"
      ],
      "execution_count": 19,
      "outputs": [
        {
          "output_type": "stream",
          "text": [
            "Attention weights are:\n",
            "tf.Tensor([[0. 1. 0. 0.]], shape=(1, 4), dtype=float32)\n",
            "Output is:\n",
            "tf.Tensor([[10.  0.]], shape=(1, 2), dtype=float32)\n"
          ],
          "name": "stdout"
        }
      ]
    },
    {
      "cell_type": "code",
      "metadata": {
        "id": "d-M_Gs_1wldu",
        "outputId": "fd048b76-e90c-478a-af5a-3edcd9fb18fa",
        "colab": {
          "base_uri": "https://localhost:8080/",
          "height": 85
        }
      },
      "source": [
        "# This query aligns with a repeated key (third and fourth),\n",
        "# so all associated values get averaged.\n",
        "# shape: (1, 3)\n",
        "temp_q = tf.constant([[0, 0, 10]], dtype=tf.float32)\n",
        "print_out(temp_q, temp_k, temp_v)"
      ],
      "execution_count": 20,
      "outputs": [
        {
          "output_type": "stream",
          "text": [
            "Attention weights are:\n",
            "tf.Tensor([[0.  0.  0.5 0.5]], shape=(1, 4), dtype=float32)\n",
            "Output is:\n",
            "tf.Tensor([[550.    5.5]], shape=(1, 2), dtype=float32)\n"
          ],
          "name": "stdout"
        }
      ]
    },
    {
      "cell_type": "code",
      "metadata": {
        "id": "UIczBwqyw_5H",
        "outputId": "60dd35ec-f497-4b8a-9779-8b202ba48cc3",
        "colab": {
          "base_uri": "https://localhost:8080/",
          "height": 85
        }
      },
      "source": [
        "# this query aligns equally with the first and second key,\n",
        "# so their values get averaged.\n",
        "# shape: (1, 3)\n",
        "temp_q = tf.constant([[10, 10, 0]], dtype=tf.float32)\n",
        "print_out(temp_q, temp_k, temp_v)"
      ],
      "execution_count": 21,
      "outputs": [
        {
          "output_type": "stream",
          "text": [
            "Attention weights are:\n",
            "tf.Tensor([[0.5 0.5 0.  0. ]], shape=(1, 4), dtype=float32)\n",
            "Output is:\n",
            "tf.Tensor([[5.5 0. ]], shape=(1, 2), dtype=float32)\n"
          ],
          "name": "stdout"
        }
      ]
    },
    {
      "cell_type": "code",
      "metadata": {
        "id": "VcdHpvo5xQGS",
        "outputId": "a7b61255-0e1f-4fd8-c3b8-31ded623ad09",
        "colab": {
          "base_uri": "https://localhost:8080/",
          "height": 85
        }
      },
      "source": [
        "temp_q = tf.constant([[2, 3, 5]], dtype=tf.float32)\n",
        "print_out(temp_q, temp_k, temp_v)"
      ],
      "execution_count": 22,
      "outputs": [
        {
          "output_type": "stream",
          "text": [
            "Attention weights are:\n",
            "tf.Tensor([[0.00000002 0.00000483 0.49999762 0.49999762]], shape=(1, 4), dtype=float32)\n",
            "Output is:\n",
            "tf.Tensor([[549.99744    5.499974]], shape=(1, 2), dtype=float32)\n"
          ],
          "name": "stdout"
        }
      ]
    },
    {
      "cell_type": "code",
      "metadata": {
        "id": "H36JESPzxuQZ",
        "outputId": "3a4c40d1-c3c0-4669-f7dd-1a1ca6e0349f",
        "colab": {
          "base_uri": "https://localhost:8080/",
          "height": 221
        }
      },
      "source": [
        "# pass all the query together\n",
        "temp_q = tf.constant([[0, 0, 10], [0, 10, 0], [10, 10, 0], [2, 3, 5]], dtype=tf.float32)\n",
        "print_out(temp_q, temp_k, temp_v)"
      ],
      "execution_count": 23,
      "outputs": [
        {
          "output_type": "stream",
          "text": [
            "Attention weights are:\n",
            "tf.Tensor(\n",
            "[[0.         0.         0.5        0.5       ]\n",
            " [0.         1.         0.         0.        ]\n",
            " [0.5        0.5        0.         0.        ]\n",
            " [0.00000002 0.00000483 0.49999762 0.49999762]], shape=(4, 4), dtype=float32)\n",
            "Output is:\n",
            "tf.Tensor(\n",
            "[[550.         5.5     ]\n",
            " [ 10.         0.      ]\n",
            " [  5.5        0.      ]\n",
            " [549.99744    5.499974]], shape=(4, 2), dtype=float32)\n"
          ],
          "name": "stdout"
        }
      ]
    },
    {
      "cell_type": "code",
      "metadata": {
        "id": "UdGr2tCm2ov6"
      },
      "source": [
        "# Multi-Head Attention\n",
        "class MultiHeadAttention(tf.keras.layers.Layer):\n",
        "  def __init__(self, d_model, num_heads):\n",
        "    super(MultiHeadAttention, self).__init__()\n",
        "    self.num_heads = num_heads\n",
        "    self.d_model = d_model\n",
        "\n",
        "    assert d_model % self.num_heads == 0\n",
        "\n",
        "    self.depth = d_model // self.num_heads\n",
        "\n",
        "    self.wq = tf.keras.layers.Dense(d_model)\n",
        "    self.wk = tf.keras.layers.Dense(d_model)\n",
        "    self.wv = tf.keras.layers.Dense(d_model)\n",
        "\n",
        "    self.dense = tf.keras.layers.Dense(d_model)\n",
        "\n",
        "  def split_heads(self, x, batch_size):\n",
        "    \"\"\"Split the last dimension into (num_heads, depth).\n",
        "    Transpose the result such that the shape is \n",
        "    (batch_size, num_heads, seq_len, depth)\n",
        "    \"\"\"\n",
        "    x = tf.reshape(x, (batch_size, -1, self.num_heads, self.depth))\n",
        "    return tf.transpose(x, perm=[0, 2, 1, 3])\n",
        "\n",
        "  def call(self, v, k, q, mask):\n",
        "    batch_size = tf.shape(q)[0]\n",
        "\n",
        "    # all shapes: (batch_size, seq_len, d_model)\n",
        "    q = self.wq(q)\n",
        "    k = self.wk(k)\n",
        "    v = self.wv(v)\n",
        "\n",
        "    # all shapes: (batch_size, num_heads, seq_len, depth)\n",
        "    q = self.split_heads(q, batch_size)\n",
        "    k = self.split_heads(k, batch_size)\n",
        "    v = self.split_heads(v, batch_size)\n",
        "\n",
        "    # scaled_attention.shape == (batch_size, num_heads, seq_len, depth)\n",
        "    # attention_weights.shape == (batch_size, num_heads, seq_len, seq_len)\n",
        "    scaled_attention, attention_weights = scaled_dot_product_attention(q, \n",
        "                                                                       k, \n",
        "                                                                       v, \n",
        "                                                                       mask)\n",
        "    # shape: (batch_size, seq_len, num_heads, depth)\n",
        "    scaled_attention = tf.transpose(scaled_attention, perm=[0, 2, 1, 3])\n",
        "    # shape: (batch_size, seq_len, d_model)\n",
        "    concat_attention = tf.reshape(scaled_attention,\n",
        "                                  (batch_size, -1, self.d_model))\n",
        "    # shape: (batch_size, seq_len, d_model)\n",
        "    output = self.dense(concat_attention)\n",
        "\n",
        "    return output, attention_weights"
      ],
      "execution_count": 24,
      "outputs": []
    },
    {
      "cell_type": "code",
      "metadata": {
        "id": "P85WoWW9_Ei_",
        "outputId": "ce1c5545-0008-40cd-f915-960b8fc6385f",
        "colab": {
          "base_uri": "https://localhost:8080/",
          "height": 34
        }
      },
      "source": [
        "temp_mha = MultiHeadAttention(d_model=512, num_heads=8)\n",
        "# shape: (batch_size, seq_len, d_model)\n",
        "y = tf.random.uniform((1, 60, 512))\n",
        "out, attn = temp_mha(v=y, k=y, q=y, mask=0)\n",
        "out.shape, attn.shape"
      ],
      "execution_count": 25,
      "outputs": [
        {
          "output_type": "execute_result",
          "data": {
            "text/plain": [
              "(TensorShape([1, 60, 512]), TensorShape([1, 8, 60, 60]))"
            ]
          },
          "metadata": {
            "tags": []
          },
          "execution_count": 25
        }
      ]
    },
    {
      "cell_type": "code",
      "metadata": {
        "id": "GPW4_WxlAE54"
      },
      "source": [
        "# Point-Wise Feed-Forward Network\n",
        "def point_wise_feed_forward_network(d_model, dff):\n",
        "  return tf.keras.Sequential([tf.keras.layers.Dense(dff, \n",
        "                                                    activation=\"relu\"), #(batch_size, seq_len, dff)\n",
        "                              tf.keras.layers.Dense(d_model)]) # (batch_size, seq_len, d_model)"
      ],
      "execution_count": 26,
      "outputs": []
    },
    {
      "cell_type": "code",
      "metadata": {
        "id": "vCWt_E7cCBLh",
        "outputId": "7bdc8e22-69e3-4d7e-cf3e-8b8dcf17e58b",
        "colab": {
          "base_uri": "https://localhost:8080/",
          "height": 34
        }
      },
      "source": [
        "sample_ffn = point_wise_feed_forward_network(512, 2048)\n",
        "sample_ffn(tf.random.uniform((64, 50, 512))).shape"
      ],
      "execution_count": 27,
      "outputs": [
        {
          "output_type": "execute_result",
          "data": {
            "text/plain": [
              "TensorShape([64, 50, 512])"
            ]
          },
          "metadata": {
            "tags": []
          },
          "execution_count": 27
        }
      ]
    },
    {
      "cell_type": "code",
      "metadata": {
        "id": "SMtGI55FCVW2"
      },
      "source": [
        "# Encoder Layer\n",
        "class EncoderLayer(tf.keras.layers.Layer):\n",
        "  def __init__(self, d_model, num_heads, dff, rate=0.1):\n",
        "    super(EncoderLayer, self).__init__()\n",
        "\n",
        "    self.mha = MultiHeadAttention(d_model, num_heads)\n",
        "    # point_wise_feed_forward_netowork is a function\n",
        "    self.ffn = point_wise_feed_forward_network(d_model, dff)\n",
        "\n",
        "    self.layernorm1 = tf.keras.layers.LayerNormalization(epsilon=1e-6)\n",
        "    self.layernorm2 = tf.keras.layers.LayerNormalization(epsilon=1e-6)\n",
        "    \"\"\"\n",
        "    tf.keras.layers.Dropout(rate):\n",
        "    rate: Float between 0 and 1. Fraction of the input units to drop.\n",
        "    The Dropout layer randomly sets input units to 0 with a frequency of rate \n",
        "    at each step during training time, which helps prevent overfitting. \n",
        "    Inputs not set to 0 are scaled up by 1/(1 - rate) such that the sum over \n",
        "    all inputs is unchanged.\"\"\"\n",
        "    self.dropout1 = tf.keras.layers.Dropout(rate)\n",
        "    self.dropout2 = tf.keras.layers.Dropout(rate)\n",
        "\n",
        "  def call(self, x, training, mask):\n",
        "    # shape: (batch_size, input_seq_len, d_model)\n",
        "    atten_output, _ = self.mha(x, x, x, mask)\n",
        "    atten_output = self.dropout1(atten_output, training=training)\n",
        "    # shape: (batch_size, input_seq_len, d_model)\n",
        "    out1 = self.layernorm1(x + atten_output)\n",
        "\n",
        "    # shape: (batch_size, input_seq_len, d_model)\n",
        "    ffn_output = self.ffn(out1)\n",
        "    ffn_output = self.dropout2(ffn_output, training=training)\n",
        "    # shape: (batch_size, input_seq_len, d_model)\n",
        "    out2 = self.layernorm2(out1 + ffn_output)\n",
        "\n",
        "    return out2"
      ],
      "execution_count": 28,
      "outputs": []
    },
    {
      "cell_type": "code",
      "metadata": {
        "id": "8RKuuKeH-MFF",
        "outputId": "bab083ac-038d-4ec3-8003-4695299b2ce6",
        "colab": {
          "base_uri": "https://localhost:8080/",
          "height": 34
        }
      },
      "source": [
        "sample_encoder_layer = EncoderLayer(512, 8, 2048)\n",
        "sample_encoder_layer_output = sample_encoder_layer(x=tf.random.uniform((64, 43, 512)), \n",
        "                                                   training=False,\n",
        "                                                   mask=0)\n",
        "sample_encoder_layer_output.shape"
      ],
      "execution_count": 29,
      "outputs": [
        {
          "output_type": "execute_result",
          "data": {
            "text/plain": [
              "TensorShape([64, 43, 512])"
            ]
          },
          "metadata": {
            "tags": []
          },
          "execution_count": 29
        }
      ]
    },
    {
      "cell_type": "code",
      "metadata": {
        "id": "ri_3xsrA_FTA"
      },
      "source": [
        "# Decoder Layer\n",
        "class DecoderLayer(tf.keras.layers.Layer):\n",
        "  def __init__(self, d_model, num_heads, dff, rate=0.1):\n",
        "    super(DecoderLayer, self).__init__()\n",
        "\n",
        "    self.mha1 = MultiHeadAttention(d_model, num_heads)\n",
        "    self.mha2 = MultiHeadAttention(d_model, num_heads)\n",
        "\n",
        "    self.ffn = point_wise_feed_forward_network(d_model, dff)\n",
        "\n",
        "    self.layernorm1 = tf.keras.layers.LayerNormalization(epsilon=1e-6)\n",
        "    self.layernorm2 = tf.keras.layers.LayerNormalization(epsilon=1e-6)\n",
        "    self.layernorm3 = tf.keras.layers.LayerNormalization(epsilon=1e-6)\n",
        "\n",
        "    self.dropout1 = tf.keras.layers.Dropout(rate)\n",
        "    self.dropout2 = tf.keras.layers.Dropout(rate)\n",
        "    self.dropout3 = tf.keras.layers.Dropout(rate)\n",
        "\n",
        "  def call(self, x, enc_output, training, look_ahead_mask, padding_mask):\n",
        "    # enc_output.shape == (batch_size, input_seq_len, d_model)\n",
        "    # shape: (batch_size, target_seq_len, d_model)\n",
        "    attn1, attn_weights_block1 = self.mha1(x, x, x, look_ahead_mask)\n",
        "    attn1 = self.dropout1(attn1, training=training)\n",
        "    out1 = self.layernorm1(x + attn1)\n",
        "    # shape: (batch_size, target_seq_len, d_model)\n",
        "    attn2, attn_weights_block2 = self.mha2(enc_output, enc_output, out1, padding_mask)\n",
        "    attn2 = self.dropout2(attn2, training=training)\n",
        "    # shape: (batch_size, target_seq_len, d_model)\n",
        "    out2 = self.layernorm2(out1 + attn2)\n",
        "\n",
        "    # shape: (batch_size, target_seq_len, d_model)\n",
        "    ffn_output = self.ffn(out2)\n",
        "    ffn_output = self.dropout3(ffn_output, training=training)\n",
        "    out3 = self.layernorm3(out2 + ffn_output)\n",
        "\n",
        "    return out3, attn_weights_block1, attn_weights_block2"
      ],
      "execution_count": 30,
      "outputs": []
    },
    {
      "cell_type": "code",
      "metadata": {
        "id": "xVYpMEdxHe8J",
        "outputId": "6891eb04-0eae-4af9-fe2d-2d5fab18d570",
        "colab": {
          "base_uri": "https://localhost:8080/",
          "height": 34
        }
      },
      "source": [
        "sample_decoder_layer = DecoderLayer(512, 8, 2048)\n",
        "\n",
        "sample_decoder_layer_output, _, _ = sample_decoder_layer(tf.random.uniform((64, 50, 512)),\n",
        "                                                         sample_encoder_layer_output,\n",
        "                                                         training=False,\n",
        "                                                         look_ahead_mask=0,\n",
        "                                                         padding_mask=0)\n",
        "sample_decoder_layer_output.shape"
      ],
      "execution_count": 31,
      "outputs": [
        {
          "output_type": "execute_result",
          "data": {
            "text/plain": [
              "TensorShape([64, 50, 512])"
            ]
          },
          "metadata": {
            "tags": []
          },
          "execution_count": 31
        }
      ]
    },
    {
      "cell_type": "code",
      "metadata": {
        "id": "FBGkkj6lIK7W"
      },
      "source": [
        "# Encoder part\n",
        "class Encoder(tf.keras.layers.Layer):\n",
        "  def __init__(self, \n",
        "               num_layers, \n",
        "               d_model, \n",
        "               num_heads, \n",
        "               dff, \n",
        "               input_vocab_size, \n",
        "               maximum_position_encoding, \n",
        "               rate=0.1):\n",
        "    \n",
        "    super(Encoder, self).__init__()\n",
        "\n",
        "    self.d_model = d_model\n",
        "    self.num_layers = num_layers\n",
        "    self.embedding = tf.keras.layers.Embedding(input_vocab_size, d_model)\n",
        "    self.pos_encoding = positional_encoding(maximum_position_encoding,\n",
        "                                            self.d_model)\n",
        "    self.enc_layers = [EncoderLayer(d_model, num_heads, dff, rate)\n",
        "                       for _ in range(num_layers)]\n",
        "    self.dropout = tf.keras.layers.Dropout(rate)\n",
        "\n",
        "  def call(self, x, training, mask):\n",
        "    seq_len = tf.shape(x)[1]\n",
        "\n",
        "    # adding embedding and position encoding.\n",
        "    # shape: (batch_size, input_seq_len, d_model)\n",
        "    x = self.embedding(x)\n",
        "    x *= tf.math.sqrt(tf.cast(self.d_model, tf.float32))\n",
        "    x += self.pos_encoding[:, :seq_len, :]\n",
        "    x = self.dropout(x, training=training)\n",
        "    for i in range(self.num_layers):\n",
        "      x = self.enc_layers[i](x, training, mask)\n",
        "      \n",
        "    # shape: (batch_size, input_seq_len, d_model)\n",
        "    return x"
      ],
      "execution_count": 32,
      "outputs": []
    },
    {
      "cell_type": "code",
      "metadata": {
        "id": "I0ld222Q56gB",
        "outputId": "b8d2416b-5801-4683-af76-83868afaf5b4",
        "colab": {
          "base_uri": "https://localhost:8080/",
          "height": 34
        }
      },
      "source": [
        "sample_encoder = Encoder(num_layers=2, \n",
        "                         d_model=512, \n",
        "                         num_heads=8, \n",
        "                         dff=2048, \n",
        "                         input_vocab_size=8500, \n",
        "                         maximum_position_encoding=10000)\n",
        "temp_input = tf.random.uniform((64, 62), dtype=tf.int64, minval=0, maxval=200)\n",
        "sample_encoder_output = sample_encoder(temp_input, training=False, mask=0)\n",
        "print(sample_encoder_output.shape)"
      ],
      "execution_count": 33,
      "outputs": [
        {
          "output_type": "stream",
          "text": [
            "(64, 62, 512)\n"
          ],
          "name": "stdout"
        }
      ]
    },
    {
      "cell_type": "code",
      "metadata": {
        "id": "-rZ4w2bu7Dpf"
      },
      "source": [
        "class Decoder(tf.keras.layers.Layer):\n",
        "  def __init__(self, \n",
        "               num_layers, \n",
        "               d_model, \n",
        "               num_heads, \n",
        "               dff, \n",
        "               target_vocab_size, \n",
        "               maximum_position_encoding, \n",
        "               rate=0.1):\n",
        "    super(Decoder, self).__init__()\n",
        "\n",
        "    self.d_model = d_model\n",
        "    self.num_layers = num_layers\n",
        "    self.embedding = tf.keras.layers.Embedding(target_vocab_size, d_model)\n",
        "    self.pos_encoding = positional_encoding(maximum_position_encoding, d_model)\n",
        "    self.dec_layers = [DecoderLayer(d_model, num_heads, dff, rate)\n",
        "                                    for _ in range(num_layers)]\n",
        "    self.dropout = tf.keras.layers.Dropout(rate)\n",
        "\n",
        "  def call(self, x, enc_output, training, look_ahead_mask, padding_mask):\n",
        "    seq_len = tf.shape(x)[1]\n",
        "    attention_weights = {}\n",
        "    # shape: (batch_size, target_seq_len, d_model)\n",
        "    x = self.embedding(x)\n",
        "    x *= tf.math.sqrt(tf.cast(self.d_model, tf.float32))\n",
        "    x += self.pos_encoding[:, :seq_len, :]\n",
        "    x = self.dropout(x, training=training)\n",
        "    for i in range(self.num_layers):\n",
        "      x, block1, block2 = self.dec_layers[i](x,\n",
        "                                             enc_output,\n",
        "                                             training,\n",
        "                                             look_ahead_mask,\n",
        "                                             padding_mask)\n",
        "      \n",
        "      attention_weights[\"decoder_layer{}_block1\".format(i+1)] = block1\n",
        "      attention_weights[\"decoder_layer{}_block2\".format(i+1)] = block2\n",
        "\n",
        "    # x.shape == (batch_size, target_seq_len, d_model)\n",
        "    return x, attention_weights"
      ],
      "execution_count": 34,
      "outputs": []
    },
    {
      "cell_type": "code",
      "metadata": {
        "id": "yXcYiGsICLGP",
        "outputId": "37e90e02-1dce-4835-b2dc-09c5b4137eaf",
        "colab": {
          "base_uri": "https://localhost:8080/",
          "height": 51
        }
      },
      "source": [
        "sample_decoder = Decoder(num_layers=2, \n",
        "                         d_model=512, \n",
        "                         num_heads=8, \n",
        "                         dff=2048, \n",
        "                         target_vocab_size=8000, \n",
        "                         maximum_position_encoding=5000)\n",
        "temp_input = tf.random.uniform((64, 26), dtype=tf.int64, minval=0, maxval=200)\n",
        "\n",
        "output, attn = sample_decoder(temp_input,\n",
        "                           enc_output=sample_encoder_output,\n",
        "                           training=False,\n",
        "                           look_ahead_mask=0,\n",
        "                           padding_mask=0)\n",
        "# shape: (batch_size, target_seq_len, d_model)\n",
        "print(output.shape) \n",
        "# shape: (batch_size, num_heads, target_seq_len, input_seq_len)\n",
        "print(attn[\"decoder_layer2_block2\"].shape)"
      ],
      "execution_count": 35,
      "outputs": [
        {
          "output_type": "stream",
          "text": [
            "(64, 26, 512)\n",
            "(64, 8, 26, 62)\n"
          ],
          "name": "stdout"
        }
      ]
    },
    {
      "cell_type": "code",
      "metadata": {
        "id": "ZU4G_fVAEZp8"
      },
      "source": [
        "class Transformer(tf.keras.Model):\n",
        "  def __init__(self, \n",
        "               num_layers, \n",
        "               d_model, \n",
        "               num_heads, \n",
        "               dff, \n",
        "               input_vocab_size, \n",
        "               target_vocab_size, \n",
        "               pe_input, pe_target, \n",
        "               rate=0.1):\n",
        "    super(Transformer, self).__init__()\n",
        "    self.encoder = Encoder(num_layers, \n",
        "                           d_model, \n",
        "                           num_heads, \n",
        "                           dff, \n",
        "                           input_vocab_size, \n",
        "                           pe_input, \n",
        "                           rate)\n",
        "    self.decoder = Decoder(num_layers, \n",
        "                           d_model, \n",
        "                           num_heads, \n",
        "                           dff, \n",
        "                           target_vocab_size, \n",
        "                           pe_target, \n",
        "                           rate)\n",
        "    self.final_layer = tf.keras.layers.Dense(target_vocab_size)\n",
        "\n",
        "  def call(self,\n",
        "           inp,\n",
        "           tar,\n",
        "           training,\n",
        "           enc_padding_mask,\n",
        "           look_ahead_mask,\n",
        "           dec_padding_mask):\n",
        "    # shape: (batch_size, inp_seq_len, d_model)\n",
        "    enc_output = self.encoder(inp, training, enc_padding_mask)\n",
        "    # shape: (batch_size, tar_seq_len, d_model)\n",
        "    dec_output, attention_weights = self.decoder(tar,\n",
        "                                                 enc_output,\n",
        "                                                 training,\n",
        "                                                 look_ahead_mask,\n",
        "                                                 dec_padding_mask)\n",
        "    # shape: (batch_size, tar_seq_len, target_vocab_size)\n",
        "    final_output = self.final_layer(dec_output)\n",
        "\n",
        "    return final_output, attention_weights"
      ],
      "execution_count": 36,
      "outputs": []
    },
    {
      "cell_type": "code",
      "metadata": {
        "id": "eKxxYjdvaFEs",
        "outputId": "2983ef75-aa57-4f28-e455-b6f908147b94",
        "colab": {
          "base_uri": "https://localhost:8080/",
          "height": 34
        }
      },
      "source": [
        "sample_transformer = Transformer(num_layers=2,\n",
        "                                 d_model=512,\n",
        "                                 num_heads=8,\n",
        "                                 dff=2048,\n",
        "                                 input_vocab_size=8500,\n",
        "                                 target_vocab_size=8000,\n",
        "                                 pe_input=10000,\n",
        "                                 pe_target=6000)\n",
        "temp_input = tf.random.uniform((64, 38), dtype=tf.int64, minval=0, maxval=200)\n",
        "temp_target = tf.random.uniform((64, 36), dtype=tf.int64, minval=0, maxval=200)\n",
        "fn_out, _ = sample_transformer(temp_input,\n",
        "                               temp_target,\n",
        "                               training=False,\n",
        "                               enc_padding_mask=0,\n",
        "                               look_ahead_mask=0,\n",
        "                               dec_padding_mask=0)\n",
        "fn_out.shape"
      ],
      "execution_count": 37,
      "outputs": [
        {
          "output_type": "execute_result",
          "data": {
            "text/plain": [
              "TensorShape([64, 36, 8000])"
            ]
          },
          "metadata": {
            "tags": []
          },
          "execution_count": 37
        }
      ]
    },
    {
      "cell_type": "code",
      "metadata": {
        "id": "l7b28AstbNcE"
      },
      "source": [
        "# Hyperparameters\n",
        "num_layers = 6\n",
        "d_model = 512\n",
        "dff = 2048\n",
        "num_heads = 8\n",
        "vocab_size = 8000\n",
        "\n",
        "input_vocab_size = vocab_size + 2\n",
        "target_vocab_size = vocab_size + 2\n",
        "dropout_rate = 0.1"
      ],
      "execution_count": 38,
      "outputs": []
    },
    {
      "cell_type": "code",
      "metadata": {
        "id": "_TbhTcMLcgfR"
      },
      "source": [
        "# optimizer scheduler\n",
        "class CustomSchedule(tf.keras.optimizers.schedules.LearningRateSchedule):\n",
        "  def __init__(self, d_model, warmup_steps=4000):\n",
        "    super(CustomSchedule, self).__init__()\n",
        "    \n",
        "    self.d_model = d_model\n",
        "    self.d_model = tf.cast(self.d_model, tf.float32)\n",
        "    self.warmup_steps = warmup_steps\n",
        "  \n",
        "  def __call__(self, step):\n",
        "    arg1 = tf.math.rsqrt(step)\n",
        "    arg2 = step * (self.warmup_steps ** -1.5)\n",
        "\n",
        "    return tf.math.rsqrt(self.d_model) * tf.math.minimum(arg1, arg2)"
      ],
      "execution_count": 39,
      "outputs": []
    },
    {
      "cell_type": "code",
      "metadata": {
        "id": "x1Zj5QxmNiA5"
      },
      "source": [
        "learning_rate = CustomSchedule(d_model)\n",
        "optimizer = tf.keras.optimizers.Adam(learning_rate,\n",
        "                                     beta_1=0.9,\n",
        "                                     beta_2=0.98,\n",
        "                                     epsilon=1e-9)"
      ],
      "execution_count": 40,
      "outputs": []
    },
    {
      "cell_type": "code",
      "metadata": {
        "id": "_EkbWNGIN_mZ",
        "outputId": "319c125d-5dcd-4829-b350-548dde80f074",
        "colab": {
          "base_uri": "https://localhost:8080/",
          "height": 312
        }
      },
      "source": [
        "temp_learning_rate_schedule = CustomSchedule(d_model)\n",
        "\n",
        "plt.plot(temp_learning_rate_schedule(tf.range(80000, dtype=tf.float32)))\n",
        "plt.title(\"Learning Rate Schecule\")\n",
        "plt.ylabel(\"Learning Rate\")\n",
        "plt.xlabel(\"Train Step\")"
      ],
      "execution_count": 41,
      "outputs": [
        {
          "output_type": "execute_result",
          "data": {
            "text/plain": [
              "Text(0.5, 0, 'Train Step')"
            ]
          },
          "metadata": {
            "tags": []
          },
          "execution_count": 41
        },
        {
          "output_type": "display_data",
          "data": {
            "image/png": "[encoded data removed]",
            "text/plain": [
              "<Figure size 432x288 with 1 Axes>"
            ]
          },
          "metadata": {
            "tags": [],
            "needs_background": "light"
          }
        }
      ]
    },
    {
      "cell_type": "code",
      "metadata": {
        "id": "GBAf5r0NOh6H"
      },
      "source": [
        "# Loss and Metrics\n",
        "# reduction value \"none\" has to start with lower case letter\n",
        "loss_object = tf.keras.losses.SparseCategoricalCrossentropy(from_logits=True, \n",
        "                                                            reduction=\"none\")\n",
        "\n",
        "def loss_function(real, pred):\n",
        "  mask = tf.math.logical_not(tf.math.equal(real, 0))\n",
        "  loss_ = loss_object(real, pred)\n",
        "\n",
        "  mask = tf.cast(mask, dtype=loss_.dtype)\n",
        "  loss_ *= mask\n",
        "\n",
        "  return tf.reduce_sum(loss_) / tf.reduce_sum(mask)"
      ],
      "execution_count": 42,
      "outputs": []
    },
    {
      "cell_type": "code",
      "metadata": {
        "id": "9ZECIqzBSZj5",
        "outputId": "be4dfadc-b1e4-4134-c195-9f63d2497870",
        "colab": {
          "base_uri": "https://localhost:8080/",
          "height": 51
        }
      },
      "source": [
        "sample_real = tf.constant([1, 2])\n",
        "sample_pred = tf.constant([[0.7, 11, 0.9],\n",
        "                           [2,5,7]])\n",
        "print(loss_function(sample_real, sample_pred))\n",
        "\n",
        "sample_real = tf.constant([1, 2, 0])\n",
        "sample_pred = tf.constant([[0.7, 11, 0.9],\n",
        "                           [2,5,7],\n",
        "                           [100, 11, 120]])\n",
        "print(loss_function(sample_real, sample_pred))"
      ],
      "execution_count": 43,
      "outputs": [
        {
          "output_type": "stream",
          "text": [
            "tf.Tensor(0.066460006, shape=(), dtype=float32)\n",
            "tf.Tensor(0.066460006, shape=(), dtype=float32)\n"
          ],
          "name": "stdout"
        }
      ]
    },
    {
      "cell_type": "code",
      "metadata": {
        "id": "rTlg19jpRXhj"
      },
      "source": [
        "train_loss = tf.keras.metrics.Mean(name=\"train_loss\")\n",
        "train_accuracy = tf.keras.metrics.SparseCategoricalAccuracy(name=\"train_accuracy\")"
      ],
      "execution_count": 44,
      "outputs": []
    },
    {
      "cell_type": "code",
      "metadata": {
        "id": "yiRzml0bSYX4"
      },
      "source": [
        "# Training and Checkpointing\n",
        "transformer = Transformer(num_layers,\n",
        "                          d_model,\n",
        "                          num_heads,\n",
        "                          dff,\n",
        "                          input_vocab_size,\n",
        "                          target_vocab_size,\n",
        "                          pe_input=input_vocab_size,\n",
        "                          pe_target=target_vocab_size,\n",
        "                          rate=dropout_rate)\n",
        "\n",
        "def create_masks(inp, tar):\n",
        "  # Encode padding mask\n",
        "  enc_padding_mask = create_padding_mask(inp)\n",
        "\n",
        "  # Used in the 2nd attention block in the decoder.\n",
        "  # this padding mask is used to mask the encoder outputs.\n",
        "  dec_padding_mask = create_padding_mask(inp)\n",
        "\n",
        "  # Used in the 1st attention block in the decoder.\n",
        "  # It is used to pad and mask future tokens in the input received by\n",
        "  # the decoder.\n",
        "  look_ahead_mask = create_look_ahead_mask(tf.shape(tar)[1])\n",
        "  dec_target_padding_mask = create_padding_mask(tar)\n",
        "  \"\"\"tf.(math.)maximumx: it returns element-wise maximum\n",
        "     >>> x= tf.constant([1, 1, 1, 0])\n",
        "     >>> y = tf.constant([1, 0, 0, 0])\n",
        "     >>> tf.math.maximum(x, y)\n",
        "     <tf.Tensor: shape=(4,), dtype=int32, numpy=array([1, 1, 1, 0], dtype=int32)>\n",
        "  \"\"\"\n",
        "  combined_mask = tf.maximum(dec_target_padding_mask, look_ahead_mask)\n",
        "\n",
        "  return enc_padding_mask, combined_mask, dec_padding_mask\n",
        "\n",
        "checkpoint_path = \"./checkpoints/train\"\n",
        "ckpt = tf.train.Checkpoint(transformer=transformer,\n",
        "                           optimizer=optimizer)\n",
        "\n",
        "ckpt_manager = tf.train.CheckpointManager(ckpt, \n",
        "                                          checkpoint_path,\n",
        "                                          max_to_keep=5)\n",
        "\n",
        "# if a checkpoint exists, restore the latest checkpoint.\n",
        "if ckpt_manager.latest_checkpoint:\n",
        "  ckpt.restore(ckpt_manager.latest_checkpoint)\n",
        "  print(\"Latest checkpoint restored!\")\n",
        "\n",
        "EPOCHS = 20\n",
        "\n",
        "# The @tf.function trace-compiles train_step into a TF graph for faster\n",
        "# execution. The function specializes to the precise shape of the argument\n",
        "# tensors. To avoid re-tracing due to the variable sequence lengths or variable\n",
        "# batch sizes (the last batch is smaller), use input_signature to specify\n",
        "# more generic shapes.\n",
        "\n",
        "train_step_signature = [\n",
        "                        tf.TensorSpec(shape=(None, None), dtype=tf.int64),\n",
        "                        tf.TensorSpec(shape=(None, None), dtype=tf.int64),\n",
        "]\n",
        "\n",
        "@tf.function(input_signature=train_step_signature)\n",
        "def train_step(inp, tar):\n",
        "  tar_inp = tar[:, :-1]\n",
        "  tar_real = tar[:, 1:]\n",
        "\n",
        "  enc_padding_mask, combined_mask, dec_padding_mask = create_mask(inp, tar_inp)\n",
        "\n",
        "  with tf.GradientTape() as tape:\n",
        "    predictions, _ = transformer(inp,\n",
        "                                 tar_inp,\n",
        "                                 True,\n",
        "                                 enc_padding_mask,\n",
        "                                 combined_mask,\n",
        "                                 dec_padding_mask)\n",
        "    loss = loss_function(tar_real, predictions)\n",
        "\n",
        "  gradients = tape.gradient(loss, transformer.trainable_variables)\n",
        "  optimizer.apply_gradients(zip(gradients, transformer.trainable_variables))\n",
        "\n",
        "  train_loss(loss)\n",
        "  train_accuracy(tar_real, predictions)"
      ],
      "execution_count": 47,
      "outputs": []
    },
    {
      "cell_type": "code",
      "metadata": {
        "id": "ncNlKoFnV4yW",
        "outputId": "77cd4099-c63c-4854-aba3-8d18ab147d54",
        "colab": {
          "base_uri": "https://localhost:8080/",
          "height": 34
        }
      },
      "source": [
        "for epoch in range(EPOCHS):\n",
        "  start = time.time()\n",
        "\n",
        "  train_loss.reset_states()\n",
        "  train_accuracy.reset_states()\n",
        "\n",
        "  # inp: Japanese, tar: English\n",
        "  for (batch, (inp, tar)) in enumerate(train_dataset):\n",
        "    train_step(inp, tar)\n",
        "\n",
        "    if batch % 100 == 0:\n",
        "      print(\"Epoch {} Batch {} Loss {:.4f} Accuracy {:.4f}\".format(epoch+1,\n",
        "                                                                   batch,\n",
        "                                                                   train_loss.result(),\n",
        "                                                                   train_accuracy.result()))\n",
        "    \n",
        "  if (epoch + 1) % 5 == 0:\n",
        "    ckpt_save_path = ckpt_manager.save()\n",
        "    print(\"Saving checkpoint for epoch {} at {}\".format(epoch+1,\n",
        "                                                        ckpt_save_path))\n",
        "  \n",
        "  print(\"Epoch {} Loss {:.4f} Accuracy {:.4f}\".format(epoch+1,\n",
        "                                                      train_loss.result(),\n",
        "                                                      train_accuracy.result()))\n",
        "  \n",
        "  print(\"Time taken for 1 epoch: {} secs\\n\".format(time.time - start))"
      ],
      "execution_count": 50,
      "outputs": [
        {
          "output_type": "execute_result",
          "data": {
            "text/plain": [
              "<tf.Tensor: shape=(4,), dtype=int32, numpy=array([1, 1, 1, 0], dtype=int32)>"
            ]
          },
          "metadata": {
            "tags": []
          },
          "execution_count": 50
        }
      ]
    },
    {
      "cell_type": "code",
      "metadata": {
        "id": "oSj_sJQmxx7Y"
      },
      "source": [
        ""
      ],
      "execution_count": null,
      "outputs": []
    }
  ]
}