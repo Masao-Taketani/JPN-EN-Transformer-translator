{
  "nbformat": 4,
  "nbformat_minor": 0,
  "metadata": {
    "kernelspec": {
      "display_name": "Python 3",
      "language": "python",
      "name": "python3"
    },
    "language_info": {
      "codemirror_mode": {
        "name": "ipython",
        "version": 3
      },
      "file_extension": ".py",
      "mimetype": "text/x-python",
      "name": "python",
      "nbconvert_exporter": "python",
      "pygments_lexer": "ipython3",
      "version": "3.7.7"
    },
    "colab": {
      "name": "train.ipynb",
      "provenance": []
    }
  },
  "cells": [
    {
      "cell_type": "markdown",
      "metadata": {
        "id": "Axc_ZAFUykIY"
      },
      "source": [
        "[![Open In Colab](https://colab.research.google.com/assets/colab-badge.svg)](https://colab.research.google.com/github/Masao-Taketani/JPN-EN-Transformer-translator/blob/master/notebooks/test/train.ipynb)"
      ]
    },
    {
      "cell_type": "code",
      "metadata": {
        "id": "N4v1DluS6axM",
        "outputId": "1281c1b9-b0b6-4427-d28a-4af576666686",
        "colab": {
          "base_uri": "https://localhost:8080/",
          "height": 102
        }
      },
      "source": [
        "!pip install sentencepiece"
      ],
      "execution_count": 3,
      "outputs": [
        {
          "output_type": "stream",
          "text": [
            "Collecting sentencepiece\n",
            "\u001b[?25l  Downloading https://files.pythonhosted.org/packages/d4/a4/d0a884c4300004a78cca907a6ff9a5e9fe4f090f5d95ab341c53d28cbc58/sentencepiece-0.1.91-cp36-cp36m-manylinux1_x86_64.whl (1.1MB)\n",
            "\r\u001b[K     |▎                               | 10kB 16.7MB/s eta 0:00:01\r\u001b[K     |▋                               | 20kB 7.0MB/s eta 0:00:01\r\u001b[K     |█                               | 30kB 6.7MB/s eta 0:00:01\r\u001b[K     |█▏                              | 40kB 5.7MB/s eta 0:00:01\r\u001b[K     |█▌                              | 51kB 5.0MB/s eta 0:00:01\r\u001b[K     |█▉                              | 61kB 4.8MB/s eta 0:00:01\r\u001b[K     |██▏                             | 71kB 4.9MB/s eta 0:00:01\r\u001b[K     |██▍                             | 81kB 4.9MB/s eta 0:00:01\r\u001b[K     |██▊                             | 92kB 4.8MB/s eta 0:00:01\r\u001b[K     |███                             | 102kB 4.8MB/s eta 0:00:01\r\u001b[K     |███▍                            | 112kB 4.8MB/s eta 0:00:01\r\u001b[K     |███▋                            | 122kB 4.8MB/s eta 0:00:01\r\u001b[K     |████                            | 133kB 4.8MB/s eta 0:00:01\r\u001b[K     |████▎                           | 143kB 4.8MB/s eta 0:00:01\r\u001b[K     |████▋                           | 153kB 4.8MB/s eta 0:00:01\r\u001b[K     |████▉                           | 163kB 4.8MB/s eta 0:00:01\r\u001b[K     |█████▏                          | 174kB 4.8MB/s eta 0:00:01\r\u001b[K     |█████▌                          | 184kB 4.8MB/s eta 0:00:01\r\u001b[K     |█████▉                          | 194kB 4.8MB/s eta 0:00:01\r\u001b[K     |██████                          | 204kB 4.8MB/s eta 0:00:01\r\u001b[K     |██████▍                         | 215kB 4.8MB/s eta 0:00:01\r\u001b[K     |██████▊                         | 225kB 4.8MB/s eta 0:00:01\r\u001b[K     |███████                         | 235kB 4.8MB/s eta 0:00:01\r\u001b[K     |███████▎                        | 245kB 4.8MB/s eta 0:00:01\r\u001b[K     |███████▋                        | 256kB 4.8MB/s eta 0:00:01\r\u001b[K     |████████                        | 266kB 4.8MB/s eta 0:00:01\r\u001b[K     |████████▎                       | 276kB 4.8MB/s eta 0:00:01\r\u001b[K     |████████▌                       | 286kB 4.8MB/s eta 0:00:01\r\u001b[K     |████████▉                       | 296kB 4.8MB/s eta 0:00:01\r\u001b[K     |█████████▏                      | 307kB 4.8MB/s eta 0:00:01\r\u001b[K     |█████████▌                      | 317kB 4.8MB/s eta 0:00:01\r\u001b[K     |█████████▊                      | 327kB 4.8MB/s eta 0:00:01\r\u001b[K     |██████████                      | 337kB 4.8MB/s eta 0:00:01\r\u001b[K     |██████████▍                     | 348kB 4.8MB/s eta 0:00:01\r\u001b[K     |██████████▊                     | 358kB 4.8MB/s eta 0:00:01\r\u001b[K     |███████████                     | 368kB 4.8MB/s eta 0:00:01\r\u001b[K     |███████████▎                    | 378kB 4.8MB/s eta 0:00:01\r\u001b[K     |███████████▋                    | 389kB 4.8MB/s eta 0:00:01\r\u001b[K     |████████████                    | 399kB 4.8MB/s eta 0:00:01\r\u001b[K     |████████████▏                   | 409kB 4.8MB/s eta 0:00:01\r\u001b[K     |████████████▌                   | 419kB 4.8MB/s eta 0:00:01\r\u001b[K     |████████████▉                   | 430kB 4.8MB/s eta 0:00:01\r\u001b[K     |█████████████▏                  | 440kB 4.8MB/s eta 0:00:01\r\u001b[K     |█████████████▍                  | 450kB 4.8MB/s eta 0:00:01\r\u001b[K     |█████████████▊                  | 460kB 4.8MB/s eta 0:00:01\r\u001b[K     |██████████████                  | 471kB 4.8MB/s eta 0:00:01\r\u001b[K     |██████████████▍                 | 481kB 4.8MB/s eta 0:00:01\r\u001b[K     |██████████████▋                 | 491kB 4.8MB/s eta 0:00:01\r\u001b[K     |███████████████                 | 501kB 4.8MB/s eta 0:00:01\r\u001b[K     |███████████████▎                | 512kB 4.8MB/s eta 0:00:01\r\u001b[K     |███████████████▋                | 522kB 4.8MB/s eta 0:00:01\r\u001b[K     |███████████████▉                | 532kB 4.8MB/s eta 0:00:01\r\u001b[K     |████████████████▏               | 542kB 4.8MB/s eta 0:00:01\r\u001b[K     |████████████████▌               | 552kB 4.8MB/s eta 0:00:01\r\u001b[K     |████████████████▉               | 563kB 4.8MB/s eta 0:00:01\r\u001b[K     |█████████████████               | 573kB 4.8MB/s eta 0:00:01\r\u001b[K     |█████████████████▍              | 583kB 4.8MB/s eta 0:00:01\r\u001b[K     |█████████████████▊              | 593kB 4.8MB/s eta 0:00:01\r\u001b[K     |██████████████████              | 604kB 4.8MB/s eta 0:00:01\r\u001b[K     |██████████████████▎             | 614kB 4.8MB/s eta 0:00:01\r\u001b[K     |██████████████████▋             | 624kB 4.8MB/s eta 0:00:01\r\u001b[K     |███████████████████             | 634kB 4.8MB/s eta 0:00:01\r\u001b[K     |███████████████████▎            | 645kB 4.8MB/s eta 0:00:01\r\u001b[K     |███████████████████▌            | 655kB 4.8MB/s eta 0:00:01\r\u001b[K     |███████████████████▉            | 665kB 4.8MB/s eta 0:00:01\r\u001b[K     |████████████████████▏           | 675kB 4.8MB/s eta 0:00:01\r\u001b[K     |████████████████████▌           | 686kB 4.8MB/s eta 0:00:01\r\u001b[K     |████████████████████▊           | 696kB 4.8MB/s eta 0:00:01\r\u001b[K     |█████████████████████           | 706kB 4.8MB/s eta 0:00:01\r\u001b[K     |█████████████████████▍          | 716kB 4.8MB/s eta 0:00:01\r\u001b[K     |█████████████████████▋          | 727kB 4.8MB/s eta 0:00:01\r\u001b[K     |██████████████████████          | 737kB 4.8MB/s eta 0:00:01\r\u001b[K     |██████████████████████▎         | 747kB 4.8MB/s eta 0:00:01\r\u001b[K     |██████████████████████▋         | 757kB 4.8MB/s eta 0:00:01\r\u001b[K     |██████████████████████▉         | 768kB 4.8MB/s eta 0:00:01\r\u001b[K     |███████████████████████▏        | 778kB 4.8MB/s eta 0:00:01\r\u001b[K     |███████████████████████▌        | 788kB 4.8MB/s eta 0:00:01\r\u001b[K     |███████████████████████▉        | 798kB 4.8MB/s eta 0:00:01\r\u001b[K     |████████████████████████        | 808kB 4.8MB/s eta 0:00:01\r\u001b[K     |████████████████████████▍       | 819kB 4.8MB/s eta 0:00:01\r\u001b[K     |████████████████████████▊       | 829kB 4.8MB/s eta 0:00:01\r\u001b[K     |█████████████████████████       | 839kB 4.8MB/s eta 0:00:01\r\u001b[K     |█████████████████████████▎      | 849kB 4.8MB/s eta 0:00:01\r\u001b[K     |█████████████████████████▋      | 860kB 4.8MB/s eta 0:00:01\r\u001b[K     |██████████████████████████      | 870kB 4.8MB/s eta 0:00:01\r\u001b[K     |██████████████████████████▎     | 880kB 4.8MB/s eta 0:00:01\r\u001b[K     |██████████████████████████▌     | 890kB 4.8MB/s eta 0:00:01\r\u001b[K     |██████████████████████████▉     | 901kB 4.8MB/s eta 0:00:01\r\u001b[K     |███████████████████████████▏    | 911kB 4.8MB/s eta 0:00:01\r\u001b[K     |███████████████████████████▌    | 921kB 4.8MB/s eta 0:00:01\r\u001b[K     |███████████████████████████▊    | 931kB 4.8MB/s eta 0:00:01\r\u001b[K     |████████████████████████████    | 942kB 4.8MB/s eta 0:00:01\r\u001b[K     |████████████████████████████▍   | 952kB 4.8MB/s eta 0:00:01\r\u001b[K     |████████████████████████████▊   | 962kB 4.8MB/s eta 0:00:01\r\u001b[K     |█████████████████████████████   | 972kB 4.8MB/s eta 0:00:01\r\u001b[K     |█████████████████████████████▎  | 983kB 4.8MB/s eta 0:00:01\r\u001b[K     |█████████████████████████████▋  | 993kB 4.8MB/s eta 0:00:01\r\u001b[K     |██████████████████████████████  | 1.0MB 4.8MB/s eta 0:00:01\r\u001b[K     |██████████████████████████████▏ | 1.0MB 4.8MB/s eta 0:00:01\r\u001b[K     |██████████████████████████████▌ | 1.0MB 4.8MB/s eta 0:00:01\r\u001b[K     |██████████████████████████████▉ | 1.0MB 4.8MB/s eta 0:00:01\r\u001b[K     |███████████████████████████████▏| 1.0MB 4.8MB/s eta 0:00:01\r\u001b[K     |███████████████████████████████▍| 1.1MB 4.8MB/s eta 0:00:01\r\u001b[K     |███████████████████████████████▊| 1.1MB 4.8MB/s eta 0:00:01\r\u001b[K     |████████████████████████████████| 1.1MB 4.8MB/s \n",
            "\u001b[?25hInstalling collected packages: sentencepiece\n",
            "Successfully installed sentencepiece-0.1.91\n"
          ],
          "name": "stdout"
        }
      ]
    },
    {
      "cell_type": "code",
      "metadata": {
        "id": "n6zx8Eaa7-FV",
        "outputId": "38354ad8-8eef-4b00-add0-3887f838687b",
        "colab": {
          "base_uri": "https://localhost:8080/",
          "height": 34
        }
      },
      "source": [
        "from google.colab import drive\n",
        "drive.mount('/content/drive')"
      ],
      "execution_count": 6,
      "outputs": [
        {
          "output_type": "stream",
          "text": [
            "Mounted at /content/drive\n"
          ],
          "name": "stdout"
        }
      ]
    },
    {
      "cell_type": "code",
      "metadata": {
        "id": "pmeCRYnj6EDe"
      },
      "source": [
        "import sentencepiece as spm\n",
        "import tensorflow as tf"
      ],
      "execution_count": 28,
      "outputs": []
    },
    {
      "cell_type": "code",
      "metadata": {
        "id": "eoZWq4ucyf1J",
        "outputId": "9bf67b90-b2e3-4bee-8b9a-52dd0f102afc",
        "colab": {
          "base_uri": "https://localhost:8080/",
          "height": 34
        }
      },
      "source": [
        "BUFFER_SIZE = 20000\n",
        "BATCH_SIZE = 64\n",
        "jpn_sp_model = \"drive/My Drive/deep_learning_models/JPN-EN-Transformer-translator/jpn_spm.model\"\n",
        "en_sp_model = \"drive/My Drive/deep_learning_models/JPN-EN-Transformer-translator/en_spm.model\"\n",
        "jpn_sp = spm.SentencePieceProcessor()\n",
        "en_sp = spm.SentencePieceProcessor()\n",
        "jpn_sp.Load(jpn_sp_model)\n",
        "en_sp.Load(en_sp_model)"
      ],
      "execution_count": 13,
      "outputs": [
        {
          "output_type": "execute_result",
          "data": {
            "text/plain": [
              "True"
            ]
          },
          "metadata": {
            "tags": []
          },
          "execution_count": 13
        }
      ]
    },
    {
      "cell_type": "code",
      "metadata": {
        "id": "GcHSUcptE3xv"
      },
      "source": [
        "def read_data(fpath):\n",
        "  with open(fpath, \"r\") as f:\n",
        "    return f.read()\n",
        "\n",
        "def get_max_len_and_list(fpath):\n",
        "  data = read_data(fpath)\n",
        "  max_len = 0\n",
        "  li = []\n",
        "  for line in data.split(\"\\n\"):\n",
        "    li.append(line)\n",
        "    if max_len < len(line):\n",
        "      max_len = len(line)\n",
        "  return max_len, li"
      ],
      "execution_count": 41,
      "outputs": []
    },
    {
      "cell_type": "code",
      "metadata": {
        "id": "V9sc8oKBFGFf",
        "outputId": "a26a3994-1e25-477d-b533-a7c8f7aef7a9",
        "colab": {
          "base_uri": "https://localhost:8080/",
          "height": 34
        }
      },
      "source": [
        "jpn_path = \"drive/My Drive/deep_learning_models/JPN-EN-Transformer-translator/jpn_data.txt\"\n",
        "en_path = \"drive/My Drive/deep_learning_models/JPN-EN-Transformer-translator/en_data.txt\"\n",
        "JPN_MAX_LEN, jpn_data = get_max_len_and_list(jpn_path)\n",
        "EN_MAX_LEN, en_data = get_max_len_and_list(en_path)\n",
        "JPN_MAX_LEN, EN_MAX_LEN"
      ],
      "execution_count": 43,
      "outputs": [
        {
          "output_type": "execute_result",
          "data": {
            "text/plain": [
              "(117, 251)"
            ]
          },
          "metadata": {
            "tags": []
          },
          "execution_count": 43
        }
      ]
    },
    {
      "cell_type": "code",
      "metadata": {
        "id": "LlNX0FOuyywQ"
      },
      "source": [
        "def encode(jpn, en):\n",
        "  jpn_enc = [jpn_sp.PieceToId(\"<s>\")] + jpn_sp.EncodeAsIds(jpn) + [jpn_sp.PieceToId(\"</s>\")]\n",
        "  en_enc = [en_sp.PieceToId(\"<s>\")] + en_sp.EncodeAsIds(en) + [en_sp.PieceToId(\"</s>\")]\n",
        "  return jpn_enc, en_enc\n",
        "\n",
        "def tf_encode(jpn, en):\n",
        "  result_jpn, result_en = tf.py_function(encode, [jpn, en], [tf.int64, tf.int64])\n",
        "  result_jpn.set_shape([None])\n",
        "  result_en.set_shape([None])\n",
        "  return result_jpn, result_en"
      ],
      "execution_count": 44,
      "outputs": []
    },
    {
      "cell_type": "code",
      "metadata": {
        "id": "k55hj5_i-k-G",
        "outputId": "a1261f90-ee60-4bc0-a24a-d0184108359e",
        "colab": {
          "base_uri": "https://localhost:8080/",
          "height": 51
        }
      },
      "source": [
        "# test\n",
        "t1, t2 = encode(\"こんにちは。今日は比較的涼しい日ですね。\", \"Hello. Today is a relatively cool day, isn't it?\")\n",
        "print(t1)\n",
        "print(t2)"
      ],
      "execution_count": 45,
      "outputs": [
        {
          "output_type": "stream",
          "text": [
            "[1, 5, 101, 126, 10, 211, 6, 4, 2182, 3176, 7892, 314, 5439, 275, 93, 553, 4, 2]\n",
            "[1, 4241, 4, 1344, 9, 8, 2767, 108, 1625, 103, 13, 9, 42, 10, 19, 29, 20, 2]\n"
          ],
          "name": "stdout"
        }
      ]
    },
    {
      "cell_type": "code",
      "metadata": {
        "id": "xZYcl78T_UZa",
        "outputId": "137c2964-65f8-4d87-9722-b9fe6123fe5e",
        "colab": {
          "base_uri": "https://localhost:8080/",
          "height": 51
        }
      },
      "source": [
        "jpn_dataset = tf.data.Dataset.from_tensor_slices(jpn_data)\n",
        "en_dataset = tf.data.Dataset.from_tensor_slices(en_data)\n",
        "type(jpn_dataset), type(en_dataset)"
      ],
      "execution_count": 49,
      "outputs": [
        {
          "output_type": "execute_result",
          "data": {
            "text/plain": [
              "(tensorflow.python.data.ops.dataset_ops.TensorSliceDataset,\n",
              " tensorflow.python.data.ops.dataset_ops.TensorSliceDataset)"
            ]
          },
          "metadata": {
            "tags": []
          },
          "execution_count": 49
        }
      ]
    },
    {
      "cell_type": "code",
      "metadata": {
        "id": "YvoBNnYUO4G9"
      },
      "source": [
        ""
      ],
      "execution_count": null,
      "outputs": []
    }
  ]
}